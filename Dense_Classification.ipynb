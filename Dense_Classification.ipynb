{
  "nbformat": 4,
  "nbformat_minor": 0,
  "metadata": {
    "colab": {
      "name": "HW4.ipynb",
      "provenance": [],
      "authorship_tag": "ABX9TyMfl7ZVqTdz799ScWCmOjdP",
      "include_colab_link": true
    },
    "kernelspec": {
      "name": "python3",
      "display_name": "Python 3"
    },
    "language_info": {
      "name": "python"
    }
  },
  "cells": [
    {
      "cell_type": "markdown",
      "metadata": {
        "id": "view-in-github",
        "colab_type": "text"
      },
      "source": [
        "<a href=\"https://colab.research.google.com/github/ta1231/ML_Practice/blob/main/Dense_Classification.ipynb\" target=\"_parent\"><img src=\"https://colab.research.google.com/assets/colab-badge.svg\" alt=\"Open In Colab\"/></a>"
      ]
    },
    {
      "cell_type": "code",
      "metadata": {
        "id": "oILDzrzCTO5G"
      },
      "source": [
        "import numpy as np\n",
        "import matplotlib.pyplot as plt\n",
        "\n",
        "from keras.layers import Dense, Dropout\n",
        "from keras.models import Sequential\n",
        "from sklearn.preprocessing import LabelBinarizer\n",
        "import tensorflow as tf"
      ],
      "execution_count": null,
      "outputs": []
    },
    {
      "cell_type": "code",
      "metadata": {
        "colab": {
          "base_uri": "https://localhost:8080/"
        },
        "id": "pH4Fxc8RTSv8",
        "outputId": "fcaadc45-210e-4436-c977-8e0286c8d8c5"
      },
      "source": [
        "# 디바이스 확인\n",
        "from tensorflow.python.client import device_lib\n",
        "device_lib.list_local_devices()"
      ],
      "execution_count": null,
      "outputs": [
        {
          "output_type": "execute_result",
          "data": {
            "text/plain": [
              "[name: \"/device:CPU:0\"\n",
              " device_type: \"CPU\"\n",
              " memory_limit: 268435456\n",
              " locality {\n",
              " }\n",
              " incarnation: 13518154143319783740]"
            ]
          },
          "metadata": {
            "tags": []
          },
          "execution_count": 56
        }
      ]
    },
    {
      "cell_type": "code",
      "metadata": {
        "colab": {
          "base_uri": "https://localhost:8080/"
        },
        "id": "HFmsSJ3MTXBz",
        "outputId": "1f14cd9a-bea4-491d-bdc1-ec980b481ca3"
      },
      "source": [
        "# 데이터셋 생성\n",
        "np.random.seed(1233231)\n",
        "x1 = np.random.random(1000)\n",
        "x2 = np.random.random(1000)\n",
        "print(x1[0 : 10])\n",
        "print(x2[0 : 10])"
      ],
      "execution_count": null,
      "outputs": [
        {
          "output_type": "stream",
          "text": [
            "[0.16305852 0.07648301 0.0612393  0.43600922 0.92321732 0.92540387\n",
            " 0.80456686 0.50659277 0.51345946 0.39667097]\n",
            "[0.94497764 0.33909315 0.74619172 0.76992395 0.82799789 0.91617029\n",
            " 0.18771643 0.88225703 0.06744963 0.92412935]\n"
          ],
          "name": "stdout"
        }
      ]
    },
    {
      "cell_type": "code",
      "metadata": {
        "colab": {
          "base_uri": "https://localhost:8080/",
          "height": 334
        },
        "id": "BvBRVikkTb3p",
        "outputId": "0be25bc8-2f26-4d02-d831-c86fee42269b"
      },
      "source": [
        "plt.figure(figsize=(5, 5))\n",
        "plt.plot(x1, x2, 'b.')\n",
        "plt.xlabel('x1')\n",
        "plt.ylabel('x2')\n",
        "plt.grid(True)\n",
        "plt.show()"
      ],
      "execution_count": null,
      "outputs": [
        {
          "output_type": "display_data",
          "data": {
            "image/png": "[encoded data removed]",
            "text/plain": [
              "<Figure size 360x360 with 1 Axes>"
            ]
          },
          "metadata": {
            "tags": [],
            "needs_background": "light"
          }
        }
      ]
    },
    {
      "cell_type": "code",
      "metadata": {
        "id": "MDesLxkFTuo0"
      },
      "source": [
        "def classify_data(x1, x2):\n",
        "  target = []\n",
        "  for i in range(len(x1)):\n",
        "    if x1[i] < 0.5 and x2[i] < 0.5:\n",
        "        target.append('type1')\n",
        "    elif x1[i] >= 0.5 and x2[i] < 0.5:\n",
        "        target.append('type2')\n",
        "    elif x1[i] < 0.5 and x2[i] >= 0.5:\n",
        "        target.append('type3')\n",
        "    elif x1[i] >= 0.5 and x1[i] < 0.75 and x2[i] >= 0.5 and x2[i] < 0.75:\n",
        "      target.append('type4')\n",
        "    elif x1[i] >= 0.5 and x1[i] < 0.75 and x2[i] >= 0.75:\n",
        "      target.append('type5')\n",
        "    elif x1[i] >= 0.75 and x2[i] >= 0.5 and x2[i] < 0.75:\n",
        "      target.append('type6')\n",
        "    else:\n",
        "      target.append('type7')\n",
        "  return np.array(target)\n",
        "\n",
        "\n"
      ],
      "execution_count": null,
      "outputs": []
    },
    {
      "cell_type": "code",
      "metadata": {
        "colab": {
          "base_uri": "https://localhost:8080/"
        },
        "id": "IWKwjUJTWSkU",
        "outputId": "71121b30-2f61-4caf-abdc-cc5fdad9bf3e"
      },
      "source": [
        "target = classify_data(x1, x2)\n",
        "print(target[0 : 10])"
      ],
      "execution_count": null,
      "outputs": [
        {
          "output_type": "stream",
          "text": [
            "['type3' 'type1' 'type3' 'type3' 'type7' 'type7' 'type2' 'type5' 'type2'\n",
            " 'type3']\n"
          ],
          "name": "stdout"
        }
      ]
    },
    {
      "cell_type": "code",
      "metadata": {
        "colab": {
          "base_uri": "https://localhost:8080/"
        },
        "id": "IuiLy2MGWVAZ",
        "outputId": "daee7aa6-b077-4d60-86bc-58e56ec33844"
      },
      "source": [
        "print(len(target[target == 'type1']))\n",
        "print(len(target[target == 'type2']))\n",
        "print(len(target[target == 'type3']))\n",
        "print(len(target[target == 'type4']))\n",
        "print(len(target[target == 'type5']))\n",
        "print(len(target[target == 'type6']))\n",
        "print(len(target[target == 'type7']))"
      ],
      "execution_count": null,
      "outputs": [
        {
          "output_type": "stream",
          "text": [
            "254\n",
            "238\n",
            "244\n",
            "57\n",
            "79\n",
            "65\n",
            "63\n"
          ],
          "name": "stdout"
        }
      ]
    },
    {
      "cell_type": "code",
      "metadata": {
        "colab": {
          "base_uri": "https://localhost:8080/",
          "height": 442
        },
        "id": "G9Ab3q54Wdne",
        "outputId": "82441e5c-a2fd-4aac-c411-6335d5673309"
      },
      "source": [
        "plt.figure(figsize=(7, 7))\n",
        "plt.plot(x1[target == 'type1'], x2[target == 'type1'], 'b.')\n",
        "plt.plot(x1[target == 'type2'], x2[target == 'type2'], 'r.')\n",
        "plt.plot(x1[target == 'type3'], x2[target == 'type3'], 'g.')\n",
        "plt.plot(x1[target == 'type4'], x2[target == 'type4'], 'y.')\n",
        "plt.plot(x1[target == 'type5'], x2[target == 'type5'], 'b.')\n",
        "plt.plot(x1[target == 'type6'], x2[target == 'type6'], 'g.')\n",
        "plt.plot(x1[target == 'type7'], x2[target == 'type7'], 'r.')\n",
        "plt.xlabel('x1')\n",
        "plt.ylabel('x2')\n",
        "plt.grid(True)\n",
        "plt.show()"
      ],
      "execution_count": null,
      "outputs": [
        {
          "output_type": "display_data",
          "data": {
            "image/png": "[encoded data removed]",
            "text/plain": [
              "<Figure size 504x504 with 1 Axes>"
            ]
          },
          "metadata": {
            "tags": [],
            "needs_background": "light"
          }
        }
      ]
    },
    {
      "cell_type": "code",
      "metadata": {
        "id": "H_OhDORyWkzW"
      },
      "source": [
        "# 데이터 합치기\n",
        "def merge_data(x1, x2):\n",
        "    ret = []\n",
        "    for i in range(len(x1)):\n",
        "        ret.append([x1[i], x2[i]])\n",
        "    return np.array(ret)"
      ],
      "execution_count": null,
      "outputs": []
    },
    {
      "cell_type": "code",
      "metadata": {
        "colab": {
          "base_uri": "https://localhost:8080/"
        },
        "id": "KTNiy1G2W329",
        "outputId": "f826e78a-77aa-4bfb-b662-49b402fb8da6"
      },
      "source": [
        "data = merge_data(x1, x2)\n",
        "data[0 : 5]"
      ],
      "execution_count": null,
      "outputs": [
        {
          "output_type": "execute_result",
          "data": {
            "text/plain": [
              "array([[0.16305852, 0.94497764],\n",
              "       [0.07648301, 0.33909315],\n",
              "       [0.0612393 , 0.74619172],\n",
              "       [0.43600922, 0.76992395],\n",
              "       [0.92321732, 0.82799789]])"
            ]
          },
          "metadata": {
            "tags": []
          },
          "execution_count": 64
        }
      ]
    },
    {
      "cell_type": "code",
      "metadata": {
        "colab": {
          "base_uri": "https://localhost:8080/"
        },
        "id": "503oHZlvW53m",
        "outputId": "3b3f5393-b4f3-4796-f6a1-3affd9dc6880"
      },
      "source": [
        "encoder = LabelBinarizer()\n",
        "print(target[0 : 10])\n",
        "\n",
        "# binary로 바꿈, 본인이 필요시 만들어도 됨\n",
        "target = encoder.fit_transform(target)\n",
        "\n",
        "print(target[0 : 10])\n",
        "print(encoder.classes_)"
      ],
      "execution_count": null,
      "outputs": [
        {
          "output_type": "stream",
          "text": [
            "['type3' 'type1' 'type3' 'type3' 'type7' 'type7' 'type2' 'type5' 'type2'\n",
            " 'type3']\n",
            "[[0 0 1 0 0 0 0]\n",
            " [1 0 0 0 0 0 0]\n",
            " [0 0 1 0 0 0 0]\n",
            " [0 0 1 0 0 0 0]\n",
            " [0 0 0 0 0 0 1]\n",
            " [0 0 0 0 0 0 1]\n",
            " [0 1 0 0 0 0 0]\n",
            " [0 0 0 0 1 0 0]\n",
            " [0 1 0 0 0 0 0]\n",
            " [0 0 1 0 0 0 0]]\n",
            "['type1' 'type2' 'type3' 'type4' 'type5' 'type6' 'type7']\n"
          ],
          "name": "stdout"
        }
      ]
    },
    {
      "cell_type": "code",
      "metadata": {
        "id": "zZVaE4oRW_Z5"
      },
      "source": [
        "trn=800\n",
        "x_train = data[0 : trn]\n",
        "t_train = target[0 : trn]\n",
        "\n",
        "#801부터 1000까지 test함\n",
        "x_test = data[trn : ]\n",
        "t_test = target[trn : ]"
      ],
      "execution_count": null,
      "outputs": []
    },
    {
      "cell_type": "code",
      "metadata": {
        "id": "yXF_nWtzXFFe"
      },
      "source": [
        "# model1 = sigmoid 모델\n",
        "from keras import optimizers"
      ],
      "execution_count": null,
      "outputs": []
    },
    {
      "cell_type": "code",
      "metadata": {
        "colab": {
          "base_uri": "https://localhost:8080/"
        },
        "id": "CZyRO9GVXLww",
        "outputId": "0b3dca37-79a8-46d4-c88e-99cc467ce379"
      },
      "source": [
        "model1 = Sequential()\n",
        "\n",
        "# 입력이 2개 activation: signoid 16개, hidden layer 2개 \n",
        "model1.add(Dense(16, input_dim = 2, activation = 'sigmoid' ))\n",
        "model1.add(Dense(16, activation = 'sigmoid' ))\n",
        "model1.add(Dense(7, activation = 'softmax'))\n",
        "\n",
        "model1.compile(loss = 'categorical_crossentropy', optimizer = 'adam', metrics = ['accuracy'])\n",
        "# model1.compile(optimizer = optimizers.Adam(lr = 0.001), loss = 'mean_squared_error')\n",
        "\n",
        "# fit 은 학습을 시키는 것 batch는 몇개마다 학습을 시킬것인가\n",
        "hist1 = model1.fit(x_train, t_train, epochs = 195, batch_size = 2)"
      ],
      "execution_count": null,
      "outputs": [
        {
          "output_type": "stream",
          "text": [
            "Epoch 1/195\n",
            "400/400 [==============================] - 1s 1ms/step - loss: 1.7896 - accuracy: 0.2557\n",
            "Epoch 2/195\n",
            "400/400 [==============================] - 0s 1ms/step - loss: 1.7197 - accuracy: 0.3129\n",
            "Epoch 3/195\n",
            "400/400 [==============================] - 0s 1ms/step - loss: 1.6802 - accuracy: 0.3829\n",
            "Epoch 4/195\n",
            "400/400 [==============================] - 0s 1ms/step - loss: 1.7056 - accuracy: 0.4908\n",
            "Epoch 5/195\n",
            "400/400 [==============================] - 0s 1ms/step - loss: 1.6490 - accuracy: 0.3686\n",
            "Epoch 6/195\n",
            "400/400 [==============================] - 0s 1ms/step - loss: 1.6316 - accuracy: 0.5885\n",
            "Epoch 7/195\n",
            "400/400 [==============================] - 0s 1ms/step - loss: 1.5160 - accuracy: 0.6354\n",
            "Epoch 8/195\n",
            "400/400 [==============================] - 0s 1ms/step - loss: 1.3896 - accuracy: 0.6651\n",
            "Epoch 9/195\n",
            "400/400 [==============================] - 0s 1ms/step - loss: 1.2798 - accuracy: 0.6828\n",
            "Epoch 10/195\n",
            "400/400 [==============================] - 0s 1ms/step - loss: 1.1418 - accuracy: 0.6936\n",
            "Epoch 11/195\n",
            "400/400 [==============================] - 0s 1ms/step - loss: 1.0599 - accuracy: 0.7009\n",
            "Epoch 12/195\n",
            "400/400 [==============================] - 0s 1ms/step - loss: 0.9439 - accuracy: 0.6919\n",
            "Epoch 13/195\n",
            "400/400 [==============================] - 0s 1ms/step - loss: 0.7860 - accuracy: 0.7465\n",
            "Epoch 14/195\n",
            "400/400 [==============================] - 0s 1ms/step - loss: 0.7710 - accuracy: 0.7612\n",
            "Epoch 15/195\n",
            "400/400 [==============================] - 0s 1ms/step - loss: 0.7411 - accuracy: 0.7716\n",
            "Epoch 16/195\n",
            "400/400 [==============================] - 0s 1ms/step - loss: 0.6429 - accuracy: 0.7951\n",
            "Epoch 17/195\n",
            "400/400 [==============================] - 0s 1ms/step - loss: 0.6134 - accuracy: 0.7911\n",
            "Epoch 18/195\n",
            "400/400 [==============================] - 0s 1ms/step - loss: 0.5817 - accuracy: 0.8292\n",
            "Epoch 19/195\n",
            "400/400 [==============================] - 0s 1ms/step - loss: 0.5494 - accuracy: 0.8044\n",
            "Epoch 20/195\n",
            "400/400 [==============================] - 0s 1ms/step - loss: 0.5072 - accuracy: 0.8552\n",
            "Epoch 21/195\n",
            "400/400 [==============================] - 0s 1ms/step - loss: 0.4891 - accuracy: 0.8510\n",
            "Epoch 22/195\n",
            "400/400 [==============================] - 0s 1ms/step - loss: 0.4820 - accuracy: 0.8524\n",
            "Epoch 23/195\n",
            "400/400 [==============================] - 0s 1ms/step - loss: 0.4801 - accuracy: 0.8597\n",
            "Epoch 24/195\n",
            "400/400 [==============================] - 0s 1ms/step - loss: 0.4193 - accuracy: 0.8818\n",
            "Epoch 25/195\n",
            "400/400 [==============================] - 0s 1ms/step - loss: 0.4092 - accuracy: 0.8926\n",
            "Epoch 26/195\n",
            "400/400 [==============================] - 0s 1ms/step - loss: 0.3954 - accuracy: 0.8907\n",
            "Epoch 27/195\n",
            "400/400 [==============================] - 0s 1ms/step - loss: 0.3968 - accuracy: 0.8957\n",
            "Epoch 28/195\n",
            "400/400 [==============================] - 0s 1ms/step - loss: 0.3493 - accuracy: 0.8945\n",
            "Epoch 29/195\n",
            "400/400 [==============================] - 0s 1ms/step - loss: 0.3757 - accuracy: 0.9108\n",
            "Epoch 30/195\n",
            "400/400 [==============================] - 0s 1ms/step - loss: 0.3421 - accuracy: 0.9110\n",
            "Epoch 31/195\n",
            "400/400 [==============================] - 0s 1ms/step - loss: 0.3444 - accuracy: 0.9113\n",
            "Epoch 32/195\n",
            "400/400 [==============================] - 0s 1ms/step - loss: 0.3205 - accuracy: 0.9079\n",
            "Epoch 33/195\n",
            "400/400 [==============================] - 0s 1ms/step - loss: 0.3118 - accuracy: 0.9306\n",
            "Epoch 34/195\n",
            "400/400 [==============================] - 0s 1ms/step - loss: 0.2961 - accuracy: 0.9383\n",
            "Epoch 35/195\n",
            "400/400 [==============================] - 0s 1ms/step - loss: 0.2997 - accuracy: 0.9362\n",
            "Epoch 36/195\n",
            "400/400 [==============================] - 0s 1ms/step - loss: 0.2816 - accuracy: 0.9403\n",
            "Epoch 37/195\n",
            "400/400 [==============================] - 0s 1ms/step - loss: 0.2991 - accuracy: 0.9205\n",
            "Epoch 38/195\n",
            "400/400 [==============================] - 0s 1ms/step - loss: 0.2630 - accuracy: 0.9490\n",
            "Epoch 39/195\n",
            "400/400 [==============================] - 0s 1ms/step - loss: 0.2604 - accuracy: 0.9366\n",
            "Epoch 40/195\n",
            "400/400 [==============================] - 0s 1ms/step - loss: 0.2639 - accuracy: 0.9498\n",
            "Epoch 41/195\n",
            "400/400 [==============================] - 0s 1ms/step - loss: 0.2458 - accuracy: 0.9485\n",
            "Epoch 42/195\n",
            "400/400 [==============================] - 0s 1ms/step - loss: 0.2499 - accuracy: 0.9576\n",
            "Epoch 43/195\n",
            "400/400 [==============================] - 0s 1ms/step - loss: 0.2529 - accuracy: 0.9301\n",
            "Epoch 44/195\n",
            "400/400 [==============================] - 0s 1ms/step - loss: 0.2511 - accuracy: 0.9398\n",
            "Epoch 45/195\n",
            "400/400 [==============================] - 0s 1ms/step - loss: 0.2255 - accuracy: 0.9538\n",
            "Epoch 46/195\n",
            "400/400 [==============================] - 0s 1ms/step - loss: 0.2545 - accuracy: 0.9260\n",
            "Epoch 47/195\n",
            "400/400 [==============================] - 0s 1ms/step - loss: 0.2393 - accuracy: 0.9454\n",
            "Epoch 48/195\n",
            "400/400 [==============================] - 0s 1ms/step - loss: 0.2385 - accuracy: 0.9447\n",
            "Epoch 49/195\n",
            "400/400 [==============================] - 0s 1ms/step - loss: 0.2202 - accuracy: 0.9545\n",
            "Epoch 50/195\n",
            "400/400 [==============================] - 0s 1ms/step - loss: 0.2061 - accuracy: 0.9515\n",
            "Epoch 51/195\n",
            "400/400 [==============================] - 0s 1ms/step - loss: 0.2182 - accuracy: 0.9477\n",
            "Epoch 52/195\n",
            "400/400 [==============================] - 0s 1ms/step - loss: 0.1981 - accuracy: 0.9598\n",
            "Epoch 53/195\n",
            "400/400 [==============================] - 0s 1ms/step - loss: 0.1978 - accuracy: 0.9506\n",
            "Epoch 54/195\n",
            "400/400 [==============================] - 0s 1ms/step - loss: 0.1944 - accuracy: 0.9486\n",
            "Epoch 55/195\n",
            "400/400 [==============================] - 0s 1ms/step - loss: 0.1945 - accuracy: 0.9503\n",
            "Epoch 56/195\n",
            "400/400 [==============================] - 0s 1ms/step - loss: 0.2069 - accuracy: 0.9616\n",
            "Epoch 57/195\n",
            "400/400 [==============================] - 0s 1ms/step - loss: 0.2094 - accuracy: 0.9386\n",
            "Epoch 58/195\n",
            "400/400 [==============================] - 0s 1ms/step - loss: 0.1940 - accuracy: 0.9616\n",
            "Epoch 59/195\n",
            "400/400 [==============================] - 0s 1ms/step - loss: 0.1862 - accuracy: 0.9651\n",
            "Epoch 60/195\n",
            "400/400 [==============================] - 0s 1ms/step - loss: 0.1827 - accuracy: 0.9474\n",
            "Epoch 61/195\n",
            "400/400 [==============================] - 0s 1ms/step - loss: 0.1802 - accuracy: 0.9576\n",
            "Epoch 62/195\n",
            "400/400 [==============================] - 0s 1ms/step - loss: 0.1650 - accuracy: 0.9593\n",
            "Epoch 63/195\n",
            "400/400 [==============================] - 0s 1ms/step - loss: 0.1866 - accuracy: 0.9533\n",
            "Epoch 64/195\n",
            "400/400 [==============================] - 0s 1ms/step - loss: 0.1695 - accuracy: 0.9680\n",
            "Epoch 65/195\n",
            "400/400 [==============================] - 0s 1ms/step - loss: 0.1914 - accuracy: 0.9500\n",
            "Epoch 66/195\n",
            "400/400 [==============================] - 0s 1ms/step - loss: 0.1906 - accuracy: 0.9590\n",
            "Epoch 67/195\n",
            "400/400 [==============================] - 0s 1ms/step - loss: 0.1697 - accuracy: 0.9637\n",
            "Epoch 68/195\n",
            "400/400 [==============================] - 0s 1ms/step - loss: 0.1625 - accuracy: 0.9648\n",
            "Epoch 69/195\n",
            "400/400 [==============================] - 0s 1ms/step - loss: 0.1663 - accuracy: 0.9707\n",
            "Epoch 70/195\n",
            "400/400 [==============================] - 0s 1ms/step - loss: 0.1537 - accuracy: 0.9645\n",
            "Epoch 71/195\n",
            "400/400 [==============================] - 0s 1ms/step - loss: 0.1669 - accuracy: 0.9750\n",
            "Epoch 72/195\n",
            "400/400 [==============================] - 0s 1ms/step - loss: 0.1533 - accuracy: 0.9686\n",
            "Epoch 73/195\n",
            "400/400 [==============================] - 0s 1ms/step - loss: 0.1697 - accuracy: 0.9550\n",
            "Epoch 74/195\n",
            "400/400 [==============================] - 0s 1ms/step - loss: 0.1625 - accuracy: 0.9632\n",
            "Epoch 75/195\n",
            "400/400 [==============================] - 0s 1ms/step - loss: 0.1503 - accuracy: 0.9692\n",
            "Epoch 76/195\n",
            "400/400 [==============================] - 0s 1ms/step - loss: 0.1545 - accuracy: 0.9582\n",
            "Epoch 77/195\n",
            "400/400 [==============================] - 0s 1ms/step - loss: 0.1682 - accuracy: 0.9512\n",
            "Epoch 78/195\n",
            "400/400 [==============================] - 0s 1ms/step - loss: 0.1651 - accuracy: 0.9582\n",
            "Epoch 79/195\n",
            "400/400 [==============================] - 0s 1ms/step - loss: 0.1644 - accuracy: 0.9621\n",
            "Epoch 80/195\n",
            "400/400 [==============================] - 0s 1ms/step - loss: 0.1407 - accuracy: 0.9672\n",
            "Epoch 81/195\n",
            "400/400 [==============================] - 0s 1ms/step - loss: 0.1543 - accuracy: 0.9607\n",
            "Epoch 82/195\n",
            "400/400 [==============================] - 0s 1ms/step - loss: 0.1461 - accuracy: 0.9698\n",
            "Epoch 83/195\n",
            "400/400 [==============================] - 0s 1ms/step - loss: 0.1349 - accuracy: 0.9728\n",
            "Epoch 84/195\n",
            "400/400 [==============================] - 0s 1ms/step - loss: 0.1544 - accuracy: 0.9602\n",
            "Epoch 85/195\n",
            "400/400 [==============================] - 0s 1ms/step - loss: 0.1390 - accuracy: 0.9789\n",
            "Epoch 86/195\n",
            "400/400 [==============================] - 0s 1ms/step - loss: 0.1420 - accuracy: 0.9781\n",
            "Epoch 87/195\n",
            "400/400 [==============================] - 0s 1ms/step - loss: 0.1523 - accuracy: 0.9648\n",
            "Epoch 88/195\n",
            "400/400 [==============================] - 0s 1ms/step - loss: 0.1529 - accuracy: 0.9570\n",
            "Epoch 89/195\n",
            "400/400 [==============================] - 0s 1ms/step - loss: 0.1333 - accuracy: 0.9617\n",
            "Epoch 90/195\n",
            "400/400 [==============================] - 0s 1ms/step - loss: 0.1410 - accuracy: 0.9662\n",
            "Epoch 91/195\n",
            "400/400 [==============================] - 0s 1ms/step - loss: 0.1475 - accuracy: 0.9655\n",
            "Epoch 92/195\n",
            "400/400 [==============================] - 0s 1ms/step - loss: 0.1264 - accuracy: 0.9718\n",
            "Epoch 93/195\n",
            "400/400 [==============================] - 0s 1ms/step - loss: 0.1215 - accuracy: 0.9777\n",
            "Epoch 94/195\n",
            "400/400 [==============================] - 0s 1ms/step - loss: 0.1303 - accuracy: 0.9669\n",
            "Epoch 95/195\n",
            "400/400 [==============================] - 0s 1ms/step - loss: 0.1379 - accuracy: 0.9703\n",
            "Epoch 96/195\n",
            "400/400 [==============================] - 0s 1ms/step - loss: 0.1203 - accuracy: 0.9740\n",
            "Epoch 97/195\n",
            "400/400 [==============================] - 0s 1ms/step - loss: 0.1122 - accuracy: 0.9820\n",
            "Epoch 98/195\n",
            "400/400 [==============================] - 0s 1ms/step - loss: 0.1365 - accuracy: 0.9716\n",
            "Epoch 99/195\n",
            "400/400 [==============================] - 0s 1ms/step - loss: 0.1335 - accuracy: 0.9716\n",
            "Epoch 100/195\n",
            "400/400 [==============================] - 0s 1ms/step - loss: 0.1175 - accuracy: 0.9708\n",
            "Epoch 101/195\n",
            "400/400 [==============================] - 0s 1ms/step - loss: 0.1309 - accuracy: 0.9730\n",
            "Epoch 102/195\n",
            "400/400 [==============================] - 0s 1ms/step - loss: 0.1155 - accuracy: 0.9701\n",
            "Epoch 103/195\n",
            "400/400 [==============================] - 0s 1ms/step - loss: 0.1255 - accuracy: 0.9743\n",
            "Epoch 104/195\n",
            "400/400 [==============================] - 0s 1ms/step - loss: 0.1312 - accuracy: 0.9636\n",
            "Epoch 105/195\n",
            "400/400 [==============================] - 0s 1ms/step - loss: 0.1328 - accuracy: 0.9734\n",
            "Epoch 106/195\n",
            "400/400 [==============================] - 0s 1ms/step - loss: 0.1094 - accuracy: 0.9785\n",
            "Epoch 107/195\n",
            "400/400 [==============================] - 0s 1ms/step - loss: 0.1269 - accuracy: 0.9742\n",
            "Epoch 108/195\n",
            "400/400 [==============================] - 0s 1ms/step - loss: 0.1253 - accuracy: 0.9842\n",
            "Epoch 109/195\n",
            "400/400 [==============================] - 0s 1ms/step - loss: 0.1154 - accuracy: 0.9791\n",
            "Epoch 110/195\n",
            "400/400 [==============================] - 0s 1ms/step - loss: 0.1084 - accuracy: 0.9787\n",
            "Epoch 111/195\n",
            "400/400 [==============================] - 0s 1ms/step - loss: 0.1157 - accuracy: 0.9779\n",
            "Epoch 112/195\n",
            "400/400 [==============================] - 0s 1ms/step - loss: 0.1062 - accuracy: 0.9771\n",
            "Epoch 113/195\n",
            "400/400 [==============================] - 0s 1ms/step - loss: 0.1054 - accuracy: 0.9715\n",
            "Epoch 114/195\n",
            "400/400 [==============================] - 0s 1ms/step - loss: 0.1154 - accuracy: 0.9719\n",
            "Epoch 115/195\n",
            "400/400 [==============================] - 0s 1ms/step - loss: 0.1085 - accuracy: 0.9776\n",
            "Epoch 116/195\n",
            "400/400 [==============================] - 0s 1ms/step - loss: 0.1078 - accuracy: 0.9733\n",
            "Epoch 117/195\n",
            "400/400 [==============================] - 0s 1ms/step - loss: 0.1112 - accuracy: 0.9776\n",
            "Epoch 118/195\n",
            "400/400 [==============================] - 0s 1ms/step - loss: 0.1103 - accuracy: 0.9684\n",
            "Epoch 119/195\n",
            "400/400 [==============================] - 0s 1ms/step - loss: 0.0996 - accuracy: 0.9776\n",
            "Epoch 120/195\n",
            "400/400 [==============================] - 0s 1ms/step - loss: 0.1186 - accuracy: 0.9723\n",
            "Epoch 121/195\n",
            "400/400 [==============================] - 0s 1ms/step - loss: 0.1118 - accuracy: 0.9788\n",
            "Epoch 122/195\n",
            "400/400 [==============================] - 0s 1ms/step - loss: 0.1062 - accuracy: 0.9672\n",
            "Epoch 123/195\n",
            "400/400 [==============================] - 0s 1ms/step - loss: 0.1171 - accuracy: 0.9672\n",
            "Epoch 124/195\n",
            "400/400 [==============================] - 0s 1ms/step - loss: 0.1068 - accuracy: 0.9764\n",
            "Epoch 125/195\n",
            "400/400 [==============================] - 0s 1ms/step - loss: 0.1054 - accuracy: 0.9721\n",
            "Epoch 126/195\n",
            "400/400 [==============================] - 0s 1ms/step - loss: 0.0971 - accuracy: 0.9753\n",
            "Epoch 127/195\n",
            "400/400 [==============================] - 0s 1ms/step - loss: 0.0989 - accuracy: 0.9707\n",
            "Epoch 128/195\n",
            "400/400 [==============================] - 0s 1ms/step - loss: 0.0956 - accuracy: 0.9832\n",
            "Epoch 129/195\n",
            "400/400 [==============================] - 0s 1ms/step - loss: 0.1101 - accuracy: 0.9674\n",
            "Epoch 130/195\n",
            "400/400 [==============================] - 0s 1ms/step - loss: 0.1087 - accuracy: 0.9732\n",
            "Epoch 131/195\n",
            "400/400 [==============================] - 0s 1ms/step - loss: 0.0950 - accuracy: 0.9806\n",
            "Epoch 132/195\n",
            "400/400 [==============================] - 0s 1ms/step - loss: 0.1037 - accuracy: 0.9723\n",
            "Epoch 133/195\n",
            "400/400 [==============================] - 0s 1ms/step - loss: 0.1186 - accuracy: 0.9504\n",
            "Epoch 134/195\n",
            "400/400 [==============================] - 0s 1ms/step - loss: 0.0967 - accuracy: 0.9780\n",
            "Epoch 135/195\n",
            "400/400 [==============================] - 0s 1ms/step - loss: 0.1119 - accuracy: 0.9654\n",
            "Epoch 136/195\n",
            "400/400 [==============================] - 0s 1ms/step - loss: 0.1083 - accuracy: 0.9719\n",
            "Epoch 137/195\n",
            "400/400 [==============================] - 0s 1ms/step - loss: 0.1153 - accuracy: 0.9692\n",
            "Epoch 138/195\n",
            "400/400 [==============================] - 0s 1ms/step - loss: 0.1012 - accuracy: 0.9741\n",
            "Epoch 139/195\n",
            "400/400 [==============================] - 0s 1ms/step - loss: 0.0999 - accuracy: 0.9766\n",
            "Epoch 140/195\n",
            "400/400 [==============================] - 0s 1ms/step - loss: 0.0894 - accuracy: 0.9811\n",
            "Epoch 141/195\n",
            "400/400 [==============================] - 0s 1ms/step - loss: 0.0948 - accuracy: 0.9798\n",
            "Epoch 142/195\n",
            "400/400 [==============================] - 0s 1ms/step - loss: 0.1085 - accuracy: 0.9748\n",
            "Epoch 143/195\n",
            "400/400 [==============================] - 0s 1ms/step - loss: 0.0894 - accuracy: 0.9829\n",
            "Epoch 144/195\n",
            "400/400 [==============================] - 0s 1ms/step - loss: 0.1010 - accuracy: 0.9804\n",
            "Epoch 145/195\n",
            "400/400 [==============================] - 0s 1ms/step - loss: 0.0974 - accuracy: 0.9745\n",
            "Epoch 146/195\n",
            "400/400 [==============================] - 0s 1ms/step - loss: 0.0933 - accuracy: 0.9841\n",
            "Epoch 147/195\n",
            "400/400 [==============================] - 0s 1ms/step - loss: 0.0929 - accuracy: 0.9778\n",
            "Epoch 148/195\n",
            "400/400 [==============================] - 0s 1ms/step - loss: 0.0977 - accuracy: 0.9802\n",
            "Epoch 149/195\n",
            "400/400 [==============================] - 0s 1ms/step - loss: 0.0988 - accuracy: 0.9709\n",
            "Epoch 150/195\n",
            "400/400 [==============================] - 0s 1ms/step - loss: 0.0956 - accuracy: 0.9849\n",
            "Epoch 151/195\n",
            "400/400 [==============================] - 0s 1ms/step - loss: 0.1067 - accuracy: 0.9794\n",
            "Epoch 152/195\n",
            "400/400 [==============================] - 0s 1ms/step - loss: 0.0897 - accuracy: 0.9804\n",
            "Epoch 153/195\n",
            "400/400 [==============================] - 0s 1ms/step - loss: 0.0857 - accuracy: 0.9901\n",
            "Epoch 154/195\n",
            "400/400 [==============================] - 0s 1ms/step - loss: 0.0939 - accuracy: 0.9746\n",
            "Epoch 155/195\n",
            "400/400 [==============================] - 0s 1ms/step - loss: 0.0909 - accuracy: 0.9824\n",
            "Epoch 156/195\n",
            "400/400 [==============================] - 0s 1ms/step - loss: 0.0888 - accuracy: 0.9751\n",
            "Epoch 157/195\n",
            "400/400 [==============================] - 0s 1ms/step - loss: 0.0770 - accuracy: 0.9871\n",
            "Epoch 158/195\n",
            "400/400 [==============================] - 0s 1ms/step - loss: 0.0757 - accuracy: 0.9833\n",
            "Epoch 159/195\n",
            "400/400 [==============================] - 0s 1ms/step - loss: 0.0875 - accuracy: 0.9775\n",
            "Epoch 160/195\n",
            "400/400 [==============================] - 0s 1ms/step - loss: 0.0898 - accuracy: 0.9794\n",
            "Epoch 161/195\n",
            "400/400 [==============================] - 0s 1ms/step - loss: 0.0861 - accuracy: 0.9735\n",
            "Epoch 162/195\n",
            "400/400 [==============================] - 0s 1ms/step - loss: 0.0853 - accuracy: 0.9838\n",
            "Epoch 163/195\n",
            "400/400 [==============================] - 0s 1ms/step - loss: 0.0923 - accuracy: 0.9742\n",
            "Epoch 164/195\n",
            "400/400 [==============================] - 0s 1ms/step - loss: 0.0848 - accuracy: 0.9799\n",
            "Epoch 165/195\n",
            "400/400 [==============================] - 0s 1ms/step - loss: 0.0927 - accuracy: 0.9798\n",
            "Epoch 166/195\n",
            "400/400 [==============================] - 0s 1ms/step - loss: 0.0783 - accuracy: 0.9831\n",
            "Epoch 167/195\n",
            "400/400 [==============================] - 0s 1ms/step - loss: 0.0947 - accuracy: 0.9868\n",
            "Epoch 168/195\n",
            "400/400 [==============================] - 0s 1ms/step - loss: 0.0901 - accuracy: 0.9752\n",
            "Epoch 169/195\n",
            "400/400 [==============================] - 0s 1ms/step - loss: 0.0812 - accuracy: 0.9864\n",
            "Epoch 170/195\n",
            "400/400 [==============================] - 0s 1ms/step - loss: 0.0993 - accuracy: 0.9675\n",
            "Epoch 171/195\n",
            "400/400 [==============================] - 0s 1ms/step - loss: 0.0775 - accuracy: 0.9766\n",
            "Epoch 172/195\n",
            "400/400 [==============================] - 0s 1ms/step - loss: 0.0847 - accuracy: 0.9899\n",
            "Epoch 173/195\n",
            "400/400 [==============================] - 0s 1ms/step - loss: 0.0773 - accuracy: 0.9844\n",
            "Epoch 174/195\n",
            "400/400 [==============================] - 0s 1ms/step - loss: 0.0885 - accuracy: 0.9784\n",
            "Epoch 175/195\n",
            "400/400 [==============================] - 0s 1ms/step - loss: 0.0932 - accuracy: 0.9738\n",
            "Epoch 176/195\n",
            "400/400 [==============================] - 0s 1ms/step - loss: 0.0833 - accuracy: 0.9909\n",
            "Epoch 177/195\n",
            "400/400 [==============================] - 0s 1ms/step - loss: 0.0893 - accuracy: 0.9748\n",
            "Epoch 178/195\n",
            "400/400 [==============================] - 0s 1ms/step - loss: 0.0875 - accuracy: 0.9858\n",
            "Epoch 179/195\n",
            "400/400 [==============================] - 0s 1ms/step - loss: 0.0785 - accuracy: 0.9783\n",
            "Epoch 180/195\n",
            "400/400 [==============================] - 0s 1ms/step - loss: 0.0778 - accuracy: 0.9765\n",
            "Epoch 181/195\n",
            "400/400 [==============================] - 0s 1ms/step - loss: 0.0731 - accuracy: 0.9890\n",
            "Epoch 182/195\n",
            "400/400 [==============================] - 0s 1ms/step - loss: 0.0760 - accuracy: 0.9880\n",
            "Epoch 183/195\n",
            "400/400 [==============================] - 0s 1ms/step - loss: 0.0827 - accuracy: 0.9774\n",
            "Epoch 184/195\n",
            "400/400 [==============================] - 0s 1ms/step - loss: 0.0869 - accuracy: 0.9759\n",
            "Epoch 185/195\n",
            "400/400 [==============================] - 0s 1ms/step - loss: 0.0795 - accuracy: 0.9787\n",
            "Epoch 186/195\n",
            "400/400 [==============================] - 0s 1ms/step - loss: 0.0800 - accuracy: 0.9835\n",
            "Epoch 187/195\n",
            "400/400 [==============================] - 0s 1ms/step - loss: 0.0709 - accuracy: 0.9849\n",
            "Epoch 188/195\n",
            "400/400 [==============================] - 0s 1ms/step - loss: 0.0877 - accuracy: 0.9738\n",
            "Epoch 189/195\n",
            "400/400 [==============================] - 0s 1ms/step - loss: 0.0734 - accuracy: 0.9824\n",
            "Epoch 190/195\n",
            "400/400 [==============================] - 0s 1ms/step - loss: 0.0793 - accuracy: 0.9780\n",
            "Epoch 191/195\n",
            "400/400 [==============================] - 0s 1ms/step - loss: 0.0858 - accuracy: 0.9737\n",
            "Epoch 192/195\n",
            "400/400 [==============================] - 0s 1ms/step - loss: 0.0815 - accuracy: 0.9837\n",
            "Epoch 193/195\n",
            "400/400 [==============================] - 0s 1ms/step - loss: 0.0739 - accuracy: 0.9825\n",
            "Epoch 194/195\n",
            "400/400 [==============================] - 0s 1ms/step - loss: 0.0839 - accuracy: 0.9803\n",
            "Epoch 195/195\n",
            "400/400 [==============================] - 0s 1ms/step - loss: 0.0732 - accuracy: 0.9861\n"
          ],
          "name": "stdout"
        }
      ]
    },
    {
      "cell_type": "code",
      "metadata": {
        "colab": {
          "base_uri": "https://localhost:8080/"
        },
        "id": "2m3-CZVuXSL_",
        "outputId": "a1af733b-459f-4636-a36a-4b3c5e4b87a6"
      },
      "source": [
        "model1.metrics_names"
      ],
      "execution_count": null,
      "outputs": [
        {
          "output_type": "execute_result",
          "data": {
            "text/plain": [
              "['loss', 'accuracy']"
            ]
          },
          "metadata": {
            "tags": []
          },
          "execution_count": 69
        }
      ]
    },
    {
      "cell_type": "code",
      "metadata": {
        "colab": {
          "base_uri": "https://localhost:8080/",
          "height": 350
        },
        "id": "sVoOoqY4YIqg",
        "outputId": "5d3424ac-fa53-4eaa-e9ec-4cd999b774d1"
      },
      "source": [
        "plt.figure(figsize = (15, 5))\n",
        "plt.plot(hist1.history['loss'], 'y', label = 'loss')\n",
        "plt.plot(hist1.history['accuracy'], 'b', label = 'acc')\n",
        "plt.xlabel('epoch')\n",
        "plt.title('Sigmoid_model')\n",
        "plt.legend(loc = 'best')\n",
        "plt.show()"
      ],
      "execution_count": null,
      "outputs": [
        {
          "output_type": "display_data",
          "data": {
            "image/png": "[encoded data removed]",
            "text/plain": [
              "<Figure size 1080x360 with 1 Axes>"
            ]
          },
          "metadata": {
            "tags": [],
            "needs_background": "light"
          }
        }
      ]
    },
    {
      "cell_type": "code",
      "metadata": {
        "colab": {
          "base_uri": "https://localhost:8080/"
        },
        "id": "yofWwYBzYKeE",
        "outputId": "659c7522-1a5f-4480-cc17-ae936c99e821"
      },
      "source": [
        "model1_loss_and_metrics = model1.evaluate(x_test, t_test, batch_size = 10)\n",
        "model1_loss_and_metrics"
      ],
      "execution_count": null,
      "outputs": [
        {
          "output_type": "stream",
          "text": [
            "20/20 [==============================] - 0s 1ms/step - loss: 0.1091 - accuracy: 0.9750\n"
          ],
          "name": "stdout"
        },
        {
          "output_type": "execute_result",
          "data": {
            "text/plain": [
              "[0.10908691585063934, 0.9750000238418579]"
            ]
          },
          "metadata": {
            "tags": []
          },
          "execution_count": 71
        }
      ]
    },
    {
      "cell_type": "code",
      "metadata": {
        "colab": {
          "base_uri": "https://localhost:8080/"
        },
        "id": "KK3wqs7nbdzE",
        "outputId": "6d6d2c19-5467-41df-f437-2dc639d8d6bb"
      },
      "source": [
        "print(model1.predict(x_test[[0]]))\n",
        "print(t_test[0])"
      ],
      "execution_count": null,
      "outputs": [
        {
          "output_type": "stream",
          "text": [
            "[[9.9980754e-01 1.6767497e-04 2.4508532e-05 1.9586771e-07 2.4073656e-14\n",
            "  1.2976594e-13 1.2149043e-24]]\n",
            "[1 0 0 0 0 0 0]\n"
          ],
          "name": "stdout"
        }
      ]
    },
    {
      "cell_type": "code",
      "metadata": {
        "colab": {
          "base_uri": "https://localhost:8080/"
        },
        "id": "l4fVdmC7cLHb",
        "outputId": "9fc5b3f3-9b8e-4c22-92d5-edee25062c8f"
      },
      "source": [
        "# 예측값\n",
        "for i in range(10):\n",
        "  x = list(model1.predict(x_test[[i]])[0])\n",
        "\n",
        "  print(x.index(max(x)))"
      ],
      "execution_count": null,
      "outputs": [
        {
          "output_type": "stream",
          "text": [
            "0\n",
            "1\n",
            "0\n",
            "2\n",
            "1\n",
            "5\n",
            "0\n",
            "2\n",
            "4\n",
            "0\n"
          ],
          "name": "stdout"
        }
      ]
    },
    {
      "cell_type": "code",
      "metadata": {
        "colab": {
          "base_uri": "https://localhost:8080/"
        },
        "id": "3-ARgtI1dVYR",
        "outputId": "0ecc8219-a253-4d62-af1a-0443676dbfdb"
      },
      "source": [
        "# 실제값\n",
        "for i in range(10):\n",
        "  x = list(t_test[i])\n",
        "\n",
        "  print(x.index(max(x)))"
      ],
      "execution_count": null,
      "outputs": [
        {
          "output_type": "stream",
          "text": [
            "0\n",
            "1\n",
            "0\n",
            "2\n",
            "1\n",
            "5\n",
            "0\n",
            "2\n",
            "4\n",
            "0\n"
          ],
          "name": "stdout"
        }
      ]
    },
    {
      "cell_type": "code",
      "metadata": {
        "colab": {
          "base_uri": "https://localhost:8080/"
        },
        "id": "IQxUPb0XYWL1",
        "outputId": "9b4f8a60-a565-400c-9320-cbb5f1f7f5b7"
      },
      "source": [
        "# model2 = relu 모델\n",
        "model2 = Sequential()\n",
        "model2.add(Dense(16, input_dim = 2, activation = 'relu' ))\n",
        "model2.add(Dense(16, activation = 'relu' ))\n",
        "model2.add(Dense(7, activation = 'softmax'))\n",
        "model2.compile(loss = 'categorical_crossentropy', optimizer = 'adam', metrics = ['accuracy'])\n",
        "hist2 = model2.fit(x_train, t_train, epochs = 80, batch_size = 20)"
      ],
      "execution_count": null,
      "outputs": [
        {
          "output_type": "stream",
          "text": [
            "Epoch 1/80\n",
            "40/40 [==============================] - 0s 984us/step - loss: 1.9079 - accuracy: 0.2002\n",
            "Epoch 2/80\n",
            "40/40 [==============================] - 0s 980us/step - loss: 1.7684 - accuracy: 0.4653\n",
            "Epoch 3/80\n",
            "40/40 [==============================] - 0s 1ms/step - loss: 1.6276 - accuracy: 0.4591\n",
            "Epoch 4/80\n",
            "40/40 [==============================] - 0s 993us/step - loss: 1.4514 - accuracy: 0.5145\n",
            "Epoch 5/80\n",
            "40/40 [==============================] - 0s 1ms/step - loss: 1.3613 - accuracy: 0.5263\n",
            "Epoch 6/80\n",
            "40/40 [==============================] - 0s 980us/step - loss: 1.2544 - accuracy: 0.5394\n",
            "Epoch 7/80\n",
            "40/40 [==============================] - 0s 956us/step - loss: 1.1265 - accuracy: 0.6082\n",
            "Epoch 8/80\n",
            "40/40 [==============================] - 0s 1ms/step - loss: 1.1113 - accuracy: 0.5999\n",
            "Epoch 9/80\n",
            "40/40 [==============================] - 0s 1ms/step - loss: 1.0275 - accuracy: 0.6132\n",
            "Epoch 10/80\n",
            "40/40 [==============================] - 0s 1ms/step - loss: 0.9417 - accuracy: 0.6586\n",
            "Epoch 11/80\n",
            "40/40 [==============================] - 0s 1ms/step - loss: 0.8644 - accuracy: 0.6783\n",
            "Epoch 12/80\n",
            "40/40 [==============================] - 0s 1ms/step - loss: 0.8409 - accuracy: 0.6776\n",
            "Epoch 13/80\n",
            "40/40 [==============================] - 0s 1ms/step - loss: 0.7009 - accuracy: 0.7468\n",
            "Epoch 14/80\n",
            "40/40 [==============================] - 0s 1000us/step - loss: 0.6910 - accuracy: 0.7555\n",
            "Epoch 15/80\n",
            "40/40 [==============================] - 0s 1ms/step - loss: 0.6367 - accuracy: 0.7665\n",
            "Epoch 16/80\n",
            "40/40 [==============================] - 0s 1ms/step - loss: 0.5883 - accuracy: 0.8000\n",
            "Epoch 17/80\n",
            "40/40 [==============================] - 0s 1ms/step - loss: 0.5863 - accuracy: 0.7810\n",
            "Epoch 18/80\n",
            "40/40 [==============================] - 0s 993us/step - loss: 0.5448 - accuracy: 0.8058\n",
            "Epoch 19/80\n",
            "40/40 [==============================] - 0s 1ms/step - loss: 0.5358 - accuracy: 0.8025\n",
            "Epoch 20/80\n",
            "40/40 [==============================] - 0s 1ms/step - loss: 0.4917 - accuracy: 0.8132\n",
            "Epoch 21/80\n",
            "40/40 [==============================] - 0s 1ms/step - loss: 0.4814 - accuracy: 0.8288\n",
            "Epoch 22/80\n",
            "40/40 [==============================] - 0s 1ms/step - loss: 0.4898 - accuracy: 0.8276\n",
            "Epoch 23/80\n",
            "40/40 [==============================] - 0s 1ms/step - loss: 0.4780 - accuracy: 0.8451\n",
            "Epoch 24/80\n",
            "40/40 [==============================] - 0s 1ms/step - loss: 0.4464 - accuracy: 0.8514\n",
            "Epoch 25/80\n",
            "40/40 [==============================] - 0s 1ms/step - loss: 0.4133 - accuracy: 0.8711\n",
            "Epoch 26/80\n",
            "40/40 [==============================] - 0s 1ms/step - loss: 0.4142 - accuracy: 0.8684\n",
            "Epoch 27/80\n",
            "40/40 [==============================] - 0s 1ms/step - loss: 0.3909 - accuracy: 0.8714\n",
            "Epoch 28/80\n",
            "40/40 [==============================] - 0s 1ms/step - loss: 0.3532 - accuracy: 0.8870\n",
            "Epoch 29/80\n",
            "40/40 [==============================] - 0s 1ms/step - loss: 0.3578 - accuracy: 0.8913\n",
            "Epoch 30/80\n",
            "40/40 [==============================] - 0s 1ms/step - loss: 0.3558 - accuracy: 0.9065\n",
            "Epoch 31/80\n",
            "40/40 [==============================] - 0s 1ms/step - loss: 0.3254 - accuracy: 0.9010\n",
            "Epoch 32/80\n",
            "40/40 [==============================] - 0s 1ms/step - loss: 0.3229 - accuracy: 0.9283\n",
            "Epoch 33/80\n",
            "40/40 [==============================] - 0s 1ms/step - loss: 0.3096 - accuracy: 0.9136\n",
            "Epoch 34/80\n",
            "40/40 [==============================] - 0s 1ms/step - loss: 0.3369 - accuracy: 0.9141\n",
            "Epoch 35/80\n",
            "40/40 [==============================] - 0s 1ms/step - loss: 0.3003 - accuracy: 0.9240\n",
            "Epoch 36/80\n",
            "40/40 [==============================] - 0s 1ms/step - loss: 0.2932 - accuracy: 0.9249\n",
            "Epoch 37/80\n",
            "40/40 [==============================] - 0s 965us/step - loss: 0.2986 - accuracy: 0.9167\n",
            "Epoch 38/80\n",
            "40/40 [==============================] - 0s 1ms/step - loss: 0.2928 - accuracy: 0.9394\n",
            "Epoch 39/80\n",
            "40/40 [==============================] - 0s 1ms/step - loss: 0.2866 - accuracy: 0.9323\n",
            "Epoch 40/80\n",
            "40/40 [==============================] - 0s 1ms/step - loss: 0.2768 - accuracy: 0.9334\n",
            "Epoch 41/80\n",
            "40/40 [==============================] - 0s 1ms/step - loss: 0.2707 - accuracy: 0.9416\n",
            "Epoch 42/80\n",
            "40/40 [==============================] - 0s 1ms/step - loss: 0.2458 - accuracy: 0.9549\n",
            "Epoch 43/80\n",
            "40/40 [==============================] - 0s 1ms/step - loss: 0.2729 - accuracy: 0.9397\n",
            "Epoch 44/80\n",
            "40/40 [==============================] - 0s 1ms/step - loss: 0.2527 - accuracy: 0.9414\n",
            "Epoch 45/80\n",
            "40/40 [==============================] - 0s 1ms/step - loss: 0.2381 - accuracy: 0.9639\n",
            "Epoch 46/80\n",
            "40/40 [==============================] - 0s 1ms/step - loss: 0.2529 - accuracy: 0.9514\n",
            "Epoch 47/80\n",
            "40/40 [==============================] - 0s 1ms/step - loss: 0.2705 - accuracy: 0.9408\n",
            "Epoch 48/80\n",
            "40/40 [==============================] - 0s 1ms/step - loss: 0.2312 - accuracy: 0.9387\n",
            "Epoch 49/80\n",
            "40/40 [==============================] - 0s 1ms/step - loss: 0.2383 - accuracy: 0.9518\n",
            "Epoch 50/80\n",
            "40/40 [==============================] - 0s 1ms/step - loss: 0.2296 - accuracy: 0.9552\n",
            "Epoch 51/80\n",
            "40/40 [==============================] - 0s 1ms/step - loss: 0.2390 - accuracy: 0.9386\n",
            "Epoch 52/80\n",
            "40/40 [==============================] - 0s 1ms/step - loss: 0.2156 - accuracy: 0.9581\n",
            "Epoch 53/80\n",
            "40/40 [==============================] - 0s 1ms/step - loss: 0.2342 - accuracy: 0.9399\n",
            "Epoch 54/80\n",
            "40/40 [==============================] - 0s 966us/step - loss: 0.2267 - accuracy: 0.9597\n",
            "Epoch 55/80\n",
            "40/40 [==============================] - 0s 1ms/step - loss: 0.2070 - accuracy: 0.9622\n",
            "Epoch 56/80\n",
            "40/40 [==============================] - 0s 1ms/step - loss: 0.1967 - accuracy: 0.9707\n",
            "Epoch 57/80\n",
            "40/40 [==============================] - 0s 1ms/step - loss: 0.2043 - accuracy: 0.9475\n",
            "Epoch 58/80\n",
            "40/40 [==============================] - 0s 1ms/step - loss: 0.1977 - accuracy: 0.9655\n",
            "Epoch 59/80\n",
            "40/40 [==============================] - 0s 1ms/step - loss: 0.1960 - accuracy: 0.9577\n",
            "Epoch 60/80\n",
            "40/40 [==============================] - 0s 1ms/step - loss: 0.1993 - accuracy: 0.9524\n",
            "Epoch 61/80\n",
            "40/40 [==============================] - 0s 1ms/step - loss: 0.2060 - accuracy: 0.9704\n",
            "Epoch 62/80\n",
            "40/40 [==============================] - 0s 986us/step - loss: 0.1846 - accuracy: 0.9758\n",
            "Epoch 63/80\n",
            "40/40 [==============================] - 0s 1ms/step - loss: 0.1834 - accuracy: 0.9580\n",
            "Epoch 64/80\n",
            "40/40 [==============================] - 0s 1ms/step - loss: 0.1855 - accuracy: 0.9575\n",
            "Epoch 65/80\n",
            "40/40 [==============================] - 0s 1ms/step - loss: 0.1843 - accuracy: 0.9600\n",
            "Epoch 66/80\n",
            "40/40 [==============================] - 0s 1ms/step - loss: 0.1776 - accuracy: 0.9650\n",
            "Epoch 67/80\n",
            "40/40 [==============================] - 0s 1ms/step - loss: 0.1934 - accuracy: 0.9596\n",
            "Epoch 68/80\n",
            "40/40 [==============================] - 0s 1ms/step - loss: 0.1833 - accuracy: 0.9570\n",
            "Epoch 69/80\n",
            "40/40 [==============================] - 0s 1ms/step - loss: 0.1758 - accuracy: 0.9721\n",
            "Epoch 70/80\n",
            "40/40 [==============================] - 0s 1ms/step - loss: 0.1648 - accuracy: 0.9712\n",
            "Epoch 71/80\n",
            "40/40 [==============================] - 0s 1ms/step - loss: 0.1833 - accuracy: 0.9522\n",
            "Epoch 72/80\n",
            "40/40 [==============================] - 0s 2ms/step - loss: 0.1798 - accuracy: 0.9698\n",
            "Epoch 73/80\n",
            "40/40 [==============================] - 0s 1ms/step - loss: 0.1911 - accuracy: 0.9675\n",
            "Epoch 74/80\n",
            "40/40 [==============================] - 0s 1ms/step - loss: 0.1893 - accuracy: 0.9526\n",
            "Epoch 75/80\n",
            "40/40 [==============================] - 0s 1ms/step - loss: 0.1753 - accuracy: 0.9630\n",
            "Epoch 76/80\n",
            "40/40 [==============================] - 0s 1ms/step - loss: 0.1699 - accuracy: 0.9646\n",
            "Epoch 77/80\n",
            "40/40 [==============================] - 0s 1ms/step - loss: 0.1621 - accuracy: 0.9725\n",
            "Epoch 78/80\n",
            "40/40 [==============================] - 0s 1ms/step - loss: 0.1552 - accuracy: 0.9720\n",
            "Epoch 79/80\n",
            "40/40 [==============================] - 0s 1ms/step - loss: 0.1664 - accuracy: 0.9590\n",
            "Epoch 80/80\n",
            "40/40 [==============================] - 0s 982us/step - loss: 0.1593 - accuracy: 0.9698\n"
          ],
          "name": "stdout"
        }
      ]
    },
    {
      "cell_type": "code",
      "metadata": {
        "colab": {
          "base_uri": "https://localhost:8080/",
          "height": 350
        },
        "id": "CXayDo4HZd0Q",
        "outputId": "8e129427-2ccd-4962-8601-002b216e7ac3"
      },
      "source": [
        "plt.figure(figsize = (15, 5))\n",
        "plt.plot(hist2.history['loss'], 'y', label = 'loss')\n",
        "plt.plot(hist2.history['accuracy'], 'b', label = 'acc')\n",
        "plt.xlabel('epoch')\n",
        "plt.title('Relu_model')\n",
        "plt.legend(loc = 'best')\n",
        "plt.show()"
      ],
      "execution_count": null,
      "outputs": [
        {
          "output_type": "display_data",
          "data": {
            "image/png": "[encoded data removed]",
            "text/plain": [
              "<Figure size 1080x360 with 1 Axes>"
            ]
          },
          "metadata": {
            "tags": [],
            "needs_background": "light"
          }
        }
      ]
    },
    {
      "cell_type": "code",
      "metadata": {
        "colab": {
          "base_uri": "https://localhost:8080/"
        },
        "id": "HCrdGEEOZt1X",
        "outputId": "2b7e9089-0be7-4c30-9205-692d022b311b"
      },
      "source": [
        "model2_loss_and_metrics = model2.evaluate(x_test, t_test, batch_size = 20)\n",
        "model2_loss_and_metrics"
      ],
      "execution_count": null,
      "outputs": [
        {
          "output_type": "stream",
          "text": [
            "10/10 [==============================] - 0s 2ms/step - loss: 0.1859 - accuracy: 0.9550\n"
          ],
          "name": "stdout"
        },
        {
          "output_type": "execute_result",
          "data": {
            "text/plain": [
              "[0.185850128531456, 0.9549999833106995]"
            ]
          },
          "metadata": {
            "tags": []
          },
          "execution_count": 77
        }
      ]
    },
    {
      "cell_type": "code",
      "metadata": {
        "colab": {
          "base_uri": "https://localhost:8080/"
        },
        "id": "gwM2tuHZZwhM",
        "outputId": "fa33bdcd-feb3-42ff-d50c-0d0314b11c41"
      },
      "source": [
        "predict1 = model1.predict(x_test)\n",
        "print(predict1)"
      ],
      "execution_count": null,
      "outputs": [
        {
          "output_type": "stream",
          "text": [
            "[[9.99807537e-01 1.67675127e-04 2.45085084e-05 ... 2.40736115e-14\n",
            "  1.29765949e-13 1.21490447e-24]\n",
            " [1.85877724e-07 9.99973059e-01 6.81639033e-12 ... 5.51057316e-15\n",
            "  1.03185175e-05 1.12410272e-15]\n",
            " [9.99211788e-01 7.61431700e-04 2.60255074e-05 ... 8.23263712e-14\n",
            "  9.75471114e-13 1.18485630e-23]\n",
            " ...\n",
            " [9.99706686e-01 2.45981384e-04 4.68078288e-05 ... 7.41488509e-14\n",
            "  3.03130459e-13 4.15095966e-24]\n",
            " [9.99940753e-01 3.99788441e-05 1.93434425e-05 ... 5.92386849e-15\n",
            "  1.84446761e-14 1.21785468e-25]\n",
            " [1.53393239e-01 8.46379042e-01 2.05776701e-06 ... 2.04795642e-12\n",
            "  2.64319056e-08 7.33558346e-19]]\n"
          ],
          "name": "stdout"
        }
      ]
    },
    {
      "cell_type": "code",
      "metadata": {
        "colab": {
          "base_uri": "https://localhost:8080/"
        },
        "id": "Ha9FV9ZLZ0Zx",
        "outputId": "ab828aa7-4810-4092-8ca6-eb0edccaf672"
      },
      "source": [
        "predict2 = model2.predict(x_test)\n",
        "print(predict2)"
      ],
      "execution_count": null,
      "outputs": [
        {
          "output_type": "stream",
          "text": [
            "[[9.9881858e-01 1.1730284e-03 2.0801983e-06 ... 3.8927889e-11\n",
            "  2.2725608e-09 8.5667564e-14]\n",
            " [5.9721565e-06 9.9993217e-01 1.3414279e-11 ... 5.9171277e-13\n",
            "  5.6333414e-05 1.5568592e-10]\n",
            " [9.9163282e-01 8.3293319e-03 3.2540161e-06 ... 1.7883736e-10\n",
            "  3.6955033e-08 1.3098115e-12]\n",
            " ...\n",
            " [9.9828291e-01 1.6323087e-03 3.7593021e-05 ... 1.5039910e-09\n",
            "  1.1163615e-08 1.8664432e-12]\n",
            " [9.9959880e-01 3.9983910e-04 4.4722853e-07 ... 1.8962065e-12\n",
            "  2.8620997e-10 2.2763949e-15]\n",
            " [2.5558090e-01 7.4433243e-01 1.5023234e-07 ... 5.3897938e-11\n",
            "  3.9350666e-06 1.6637323e-11]]\n"
          ],
          "name": "stdout"
        }
      ]
    },
    {
      "cell_type": "code",
      "metadata": {
        "colab": {
          "base_uri": "https://localhost:8080/"
        },
        "id": "dyHjVgpaZ4W7",
        "outputId": "1565f887-9660-4263-8ea0-9b920242da18"
      },
      "source": [
        "# 예측 확인\n",
        "# 예측이 틀린 것들만\n",
        "for i in range(len(t_test)):\n",
        "    if np.argmax(t_test[i]) != np.argmax(predict1[i]):\n",
        "        print(i, format(x_test[i, 0], \"1.4f\"), format(x_test[i, 1], \"1.4f\"), np.argmax(t_test[i]), np.argmax(predict1[i]))"
      ],
      "execution_count": null,
      "outputs": [
        {
          "output_type": "stream",
          "text": [
            "84 0.5294 0.7367 3 4\n",
            "89 0.7522 0.5241 5 1\n",
            "114 0.4849 0.9860 2 4\n",
            "117 0.9311 0.4991 1 5\n",
            "144 0.4884 0.9559 2 4\n"
          ],
          "name": "stdout"
        }
      ]
    },
    {
      "cell_type": "code",
      "metadata": {
        "colab": {
          "base_uri": "https://localhost:8080/"
        },
        "id": "I8q-hS6AZ9Yf",
        "outputId": "e815970f-7f9f-4392-8ac8-48eb9bca6d61"
      },
      "source": [
        "for i in range(len(t_test)):\n",
        "    if np.argmax(t_test[i]) != np.argmax(predict2[i]):\n",
        "        print(i, format(x_test[i, 0], \"1.4f\"), format(x_test[i, 1], \"1.4f\"), np.argmax(t_test[i]), np.argmax(predict2[i]))"
      ],
      "execution_count": null,
      "outputs": [
        {
          "output_type": "stream",
          "text": [
            "84 0.5294 0.7367 3 2\n",
            "89 0.7522 0.5241 5 1\n",
            "114 0.4849 0.9860 2 4\n",
            "117 0.9311 0.4991 1 5\n",
            "119 0.7535 0.8866 6 4\n",
            "144 0.4884 0.9559 2 4\n",
            "146 0.4988 0.1641 0 1\n",
            "152 0.5299 0.7031 3 2\n",
            "155 0.5910 0.7255 3 4\n"
          ],
          "name": "stdout"
        }
      ]
    },
    {
      "cell_type": "code",
      "metadata": {
        "colab": {
          "base_uri": "https://localhost:8080/"
        },
        "id": "G6fh8tIgaIZX",
        "outputId": "f5095461-2d68-4310-ac56-fdb80fee721d"
      },
      "source": [
        "# mode1예측값\n",
        "for i in range(10):\n",
        "  x = list(model1.predict(x_test[[i]])[0])\n",
        "\n",
        "  print(x.index(max(x)))"
      ],
      "execution_count": null,
      "outputs": [
        {
          "output_type": "stream",
          "text": [
            "0\n",
            "1\n",
            "0\n",
            "2\n",
            "1\n",
            "5\n",
            "0\n",
            "2\n",
            "4\n",
            "0\n"
          ],
          "name": "stdout"
        }
      ]
    },
    {
      "cell_type": "code",
      "metadata": {
        "colab": {
          "base_uri": "https://localhost:8080/"
        },
        "id": "oFe0OvYVeiwM",
        "outputId": "db2904b0-6772-4f93-caf4-e9f024f1ddbc"
      },
      "source": [
        "# mode2예측값\n",
        "for i in range(10):\n",
        "  x = list(model2.predict(x_test[[i]])[0])\n",
        "\n",
        "  print(x.index(max(x)))"
      ],
      "execution_count": null,
      "outputs": [
        {
          "output_type": "stream",
          "text": [
            "0\n",
            "1\n",
            "0\n",
            "2\n",
            "1\n",
            "5\n",
            "0\n",
            "2\n",
            "4\n",
            "0\n"
          ],
          "name": "stdout"
        }
      ]
    },
    {
      "cell_type": "code",
      "metadata": {
        "colab": {
          "base_uri": "https://localhost:8080/"
        },
        "id": "6sygi1kkedFJ",
        "outputId": "4ad5940c-f342-42d2-be0c-c9ae18de9dca"
      },
      "source": [
        "# 실제값\n",
        "for i in range(10):\n",
        "  x = list(t_test[i])\n",
        "\n",
        "  print(x.index(max(x)))"
      ],
      "execution_count": null,
      "outputs": [
        {
          "output_type": "stream",
          "text": [
            "0\n",
            "1\n",
            "0\n",
            "2\n",
            "1\n",
            "5\n",
            "0\n",
            "2\n",
            "4\n",
            "0\n"
          ],
          "name": "stdout"
        }
      ]
    },
    {
      "cell_type": "code",
      "metadata": {
        "colab": {
          "base_uri": "https://localhost:8080/"
        },
        "id": "k4KIYjmWe5Pj",
        "outputId": "f352c0c9-afa4-4009-a180-850d8ab370e2"
      },
      "source": [
        "for i in range(len(x_test)):\n",
        "  m1 = list(model1.predict(x_test[[i]])[0])\n",
        "  m2 = list(model1.predict(x_test[[i]])[0])\n",
        "  x = list(t_test[i])\n",
        "  # 번호, model1 예측값, model2 예측값 실제 test값\n",
        "  # 0부터 type1, 6은 type7\n",
        "  print(i, m1.index(max(m1)), m2.index(max(m2)), x.index(max(x)))"
      ],
      "execution_count": null,
      "outputs": [
        {
          "output_type": "stream",
          "text": [
            "0 0 0 0\n",
            "1 1 1 1\n",
            "2 0 0 0\n",
            "3 2 2 2\n",
            "4 1 1 1\n",
            "5 5 5 5\n",
            "6 0 0 0\n",
            "7 2 2 2\n",
            "8 4 4 4\n",
            "9 0 0 0\n",
            "10 2 2 2\n",
            "11 2 2 2\n",
            "12 0 0 0\n",
            "13 2 2 2\n",
            "14 0 0 0\n",
            "15 1 1 1\n",
            "16 1 1 1\n",
            "17 2 2 2\n",
            "18 1 1 1\n",
            "19 0 0 0\n",
            "20 4 4 4\n",
            "21 2 2 2\n",
            "22 1 1 1\n",
            "23 1 1 1\n",
            "24 1 1 1\n",
            "25 4 4 4\n",
            "26 5 5 5\n",
            "27 6 6 6\n",
            "28 5 5 5\n",
            "29 2 2 2\n",
            "30 3 3 3\n",
            "31 2 2 2\n",
            "32 2 2 2\n",
            "33 0 0 0\n",
            "34 2 2 2\n",
            "35 2 2 2\n",
            "36 1 1 1\n",
            "37 1 1 1\n",
            "38 5 5 5\n",
            "39 1 1 1\n",
            "40 0 0 0\n",
            "41 2 2 2\n",
            "42 1 1 1\n",
            "43 3 3 3\n",
            "44 1 1 1\n",
            "45 4 4 4\n",
            "46 1 1 1\n",
            "47 0 0 0\n",
            "48 1 1 1\n",
            "49 6 6 6\n",
            "50 4 4 4\n",
            "51 5 5 5\n",
            "52 5 5 5\n",
            "53 2 2 2\n",
            "54 0 0 0\n",
            "55 0 0 0\n",
            "56 5 5 5\n",
            "57 0 0 0\n",
            "58 5 5 5\n",
            "59 2 2 2\n",
            "60 4 4 4\n",
            "61 0 0 0\n",
            "62 5 5 5\n",
            "63 0 0 0\n",
            "64 2 2 2\n",
            "65 2 2 2\n",
            "66 0 0 0\n",
            "67 1 1 1\n",
            "68 5 5 5\n",
            "69 2 2 2\n",
            "70 0 0 0\n",
            "71 0 0 0\n",
            "72 2 2 2\n",
            "73 3 3 3\n",
            "74 0 0 0\n",
            "75 0 0 0\n",
            "76 1 1 1\n",
            "77 2 2 2\n",
            "78 2 2 2\n",
            "79 4 4 4\n",
            "80 0 0 0\n",
            "81 2 2 2\n",
            "82 1 1 1\n",
            "83 2 2 2\n",
            "84 4 4 3\n",
            "85 2 2 2\n",
            "86 2 2 2\n",
            "87 2 2 2\n",
            "88 0 0 0\n",
            "89 1 1 5\n",
            "90 1 1 1\n",
            "91 0 0 0\n",
            "92 2 2 2\n",
            "93 2 2 2\n",
            "94 3 3 3\n",
            "95 1 1 1\n",
            "96 0 0 0\n",
            "97 1 1 1\n",
            "98 2 2 2\n",
            "99 1 1 1\n",
            "100 0 0 0\n",
            "101 2 2 2\n",
            "102 6 6 6\n",
            "103 2 2 2\n",
            "104 1 1 1\n",
            "105 1 1 1\n",
            "106 1 1 1\n",
            "107 0 0 0\n",
            "108 1 1 1\n",
            "109 1 1 1\n",
            "110 4 4 4\n",
            "111 6 6 6\n",
            "112 0 0 0\n",
            "113 5 5 5\n",
            "114 4 4 2\n",
            "115 3 3 3\n",
            "116 1 1 1\n",
            "117 5 5 1\n",
            "118 1 1 1\n",
            "119 6 6 6\n",
            "120 0 0 0\n",
            "121 0 0 0\n",
            "122 2 2 2\n",
            "123 0 0 0\n",
            "124 0 0 0\n",
            "125 2 2 2\n",
            "126 0 0 0\n",
            "127 0 0 0\n",
            "128 1 1 1\n",
            "129 1 1 1\n",
            "130 2 2 2\n",
            "131 4 4 4\n",
            "132 1 1 1\n",
            "133 1 1 1\n",
            "134 2 2 2\n",
            "135 4 4 4\n",
            "136 1 1 1\n",
            "137 2 2 2\n",
            "138 4 4 4\n",
            "139 2 2 2\n",
            "140 1 1 1\n",
            "141 2 2 2\n",
            "142 2 2 2\n",
            "143 0 0 0\n",
            "144 4 4 2\n",
            "145 1 1 1\n",
            "146 0 0 0\n",
            "147 0 0 0\n",
            "148 0 0 0\n",
            "149 4 4 4\n",
            "150 2 2 2\n",
            "151 4 4 4\n",
            "152 3 3 3\n",
            "153 0 0 0\n",
            "154 2 2 2\n",
            "155 3 3 3\n",
            "156 6 6 6\n",
            "157 2 2 2\n",
            "158 5 5 5\n",
            "159 5 5 5\n",
            "160 0 0 0\n",
            "161 1 1 1\n",
            "162 1 1 1\n",
            "163 2 2 2\n",
            "164 1 1 1\n",
            "165 2 2 2\n",
            "166 4 4 4\n",
            "167 4 4 4\n",
            "168 3 3 3\n",
            "169 1 1 1\n",
            "170 5 5 5\n",
            "171 5 5 5\n",
            "172 4 4 4\n",
            "173 6 6 6\n",
            "174 5 5 5\n",
            "175 1 1 1\n",
            "176 0 0 0\n",
            "177 0 0 0\n",
            "178 2 2 2\n",
            "179 1 1 1\n",
            "180 3 3 3\n",
            "181 3 3 3\n",
            "182 2 2 2\n",
            "183 0 0 0\n",
            "184 1 1 1\n",
            "185 1 1 1\n",
            "186 0 0 0\n",
            "187 2 2 2\n",
            "188 1 1 1\n",
            "189 1 1 1\n",
            "190 1 1 1\n",
            "191 5 5 5\n",
            "192 1 1 1\n",
            "193 4 4 4\n",
            "194 2 2 2\n",
            "195 0 0 0\n",
            "196 4 4 4\n",
            "197 0 0 0\n",
            "198 0 0 0\n",
            "199 1 1 1\n"
          ],
          "name": "stdout"
        }
      ]
    },
    {
      "cell_type": "code",
      "metadata": {
        "colab": {
          "base_uri": "https://localhost:8080/"
        },
        "id": "DTHNtc8lfWSv",
        "outputId": "7d1de97a-48be-4876-b79e-81386b2acce0"
      },
      "source": [
        "# sigmoid 모델\n",
        "model1_loss_and_metrics = model1.evaluate(x_test, t_test, batch_size = 20)\n",
        "model1_loss_and_metrics"
      ],
      "execution_count": null,
      "outputs": [
        {
          "output_type": "stream",
          "text": [
            "10/10 [==============================] - 0s 2ms/step - loss: 0.1091 - accuracy: 0.9750\n"
          ],
          "name": "stdout"
        },
        {
          "output_type": "execute_result",
          "data": {
            "text/plain": [
              "[0.10908693075180054, 0.9750000238418579]"
            ]
          },
          "metadata": {
            "tags": []
          },
          "execution_count": 87
        }
      ]
    },
    {
      "cell_type": "code",
      "metadata": {
        "colab": {
          "base_uri": "https://localhost:8080/"
        },
        "id": "qelcWPi1hXTL",
        "outputId": "1240d063-bbe9-43aa-ddab-74e6ffb6ecfb"
      },
      "source": [
        "# relu 모델\n",
        "model2_loss_and_metrics = model2.evaluate(x_test, t_test, batch_size = 20)\n",
        "model2_loss_and_metrics"
      ],
      "execution_count": null,
      "outputs": [
        {
          "output_type": "stream",
          "text": [
            "10/10 [==============================] - 0s 2ms/step - loss: 0.1859 - accuracy: 0.9550\n"
          ],
          "name": "stdout"
        },
        {
          "output_type": "execute_result",
          "data": {
            "text/plain": [
              "[0.185850128531456, 0.9549999833106995]"
            ]
          },
          "metadata": {
            "tags": []
          },
          "execution_count": 88
        }
      ]
    },
    {
      "cell_type": "code",
      "metadata": {
        "id": "q99YnH-9hcLM"
      },
      "source": [
        ""
      ],
      "execution_count": null,
      "outputs": []
    }
  ]
}