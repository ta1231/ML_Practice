{
  "nbformat": 4,
  "nbformat_minor": 0,
  "metadata": {
    "colab": {
      "name": "BostonHousing_regression.ipynb",
      "provenance": [],
      "authorship_tag": "ABX9TyOUtIc8Hr/wL69R8R/Ib585",
      "include_colab_link": true
    },
    "kernelspec": {
      "name": "python3",
      "display_name": "Python 3"
    },
    "language_info": {
      "name": "python"
    }
  },
  "cells": [
    {
      "cell_type": "markdown",
      "metadata": {
        "id": "view-in-github",
        "colab_type": "text"
      },
      "source": [
        "<a href=\"https://colab.research.google.com/github/ta1231/ML_Practice/blob/main/BostonHousing_regression.ipynb\" target=\"_parent\"><img src=\"https://colab.research.google.com/assets/colab-badge.svg\" alt=\"Open In Colab\"/></a>"
      ]
    },
    {
      "cell_type": "code",
      "metadata": {
        "colab": {
          "base_uri": "https://localhost:8080/"
        },
        "id": "ZWl2CrKWhhev",
        "outputId": "e6fa1271-db3a-4a05-a5be-b3fd3295db1c"
      },
      "source": [
        "import pandas as pd\n",
        "import statsmodels.api as sm\n",
        "import matplotlib.pyplot as plt\n",
        "from scipy import stats\n",
        "import seaborn as sns\n",
        "import numpy as np"
      ],
      "execution_count": null,
      "outputs": [
        {
          "output_type": "stream",
          "text": [
            "/usr/local/lib/python3.7/dist-packages/statsmodels/tools/_testing.py:19: FutureWarning: pandas.util.testing is deprecated. Use the functions in the public API at pandas.testing instead.\n",
            "  import pandas.util.testing as tm\n"
          ],
          "name": "stderr"
        }
      ]
    },
    {
      "cell_type": "code",
      "metadata": {
        "id": "U4h63Iath0DM"
      },
      "source": [
        "from google.colab import drive\n",
        "BostonHousingData = pd.read_csv(\"/content/BostonHousingData.csv\", encoding='utf-8')\n",
        "features=BostonHousingData.iloc[:, 0:14]\n"
      ],
      "execution_count": null,
      "outputs": []
    },
    {
      "cell_type": "code",
      "metadata": {
        "id": "SsGvg3XfiDxC"
      },
      "source": [
        "flist=['CRIM', 'ZN', 'INDUS', 'CHAS', 'NOX', 'RM', 'AGE', 'DIS', 'RAD', 'TAX', 'PTRATIO', 'B', 'LSTAT', 'MEDV']\n"
      ],
      "execution_count": null,
      "outputs": []
    },
    {
      "cell_type": "code",
      "metadata": {
        "id": "a8iQho_3iIJ1"
      },
      "source": [
        "# Get p-value\n",
        "def corr_p(dataframe):\n",
        "    col_length=len(dataframe.columns)\n",
        "    idx_length=len(dataframe.index)\n",
        "    for col in range(col_length):\n",
        "        for idx in range(idx_length):\n",
        "            dataframe.iloc[idx,col] = stats.pearsonr(features[flist[idx]], features[flist[col]])[1]\n",
        "    return dataframe"
      ],
      "execution_count": null,
      "outputs": []
    },
    {
      "cell_type": "code",
      "metadata": {
        "id": "GrQ7zWiliJze"
      },
      "source": [
        "corr_p_values=pd.DataFrame(np.zeros((14,14)))\n",
        "corr_p_values.columns = flist\n",
        "corr_p_values.index = flist"
      ],
      "execution_count": null,
      "outputs": []
    },
    {
      "cell_type": "code",
      "metadata": {
        "colab": {
          "base_uri": "https://localhost:8080/",
          "height": 551
        },
        "id": "ZF-LK5PviLTo",
        "outputId": "354c5b51-6ebd-49aa-9456-609acfd6dd86"
      },
      "source": [
        "corr_p(corr_p_values)"
      ],
      "execution_count": null,
      "outputs": [
        {
          "output_type": "execute_result",
          "data": {
            "text/html": [
              "<div>\n",
              "<style scoped>\n",
              "    .dataframe tbody tr th:only-of-type {\n",
              "        vertical-align: middle;\n",
              "    }\n",
              "\n",
              "    .dataframe tbody tr th {\n",
              "        vertical-align: top;\n",
              "    }\n",
              "\n",
              "    .dataframe thead th {\n",
              "        text-align: right;\n",
              "    }\n",
              "</style>\n",
              "<table border=\"1\" class=\"dataframe\">\n",
              "  <thead>\n",
              "    <tr style=\"text-align: right;\">\n",
              "      <th></th>\n",
              "      <th>CRIM</th>\n",
              "      <th>ZN</th>\n",
              "      <th>INDUS</th>\n",
              "      <th>CHAS</th>\n",
              "      <th>NOX</th>\n",
              "      <th>RM</th>\n",
              "      <th>AGE</th>\n",
              "      <th>DIS</th>\n",
              "      <th>RAD</th>\n",
              "      <th>TAX</th>\n",
              "      <th>PTRATIO</th>\n",
              "      <th>B</th>\n",
              "      <th>LSTAT</th>\n",
              "      <th>MEDV</th>\n",
              "    </tr>\n",
              "  </thead>\n",
              "  <tbody>\n",
              "    <tr>\n",
              "      <th>CRIM</th>\n",
              "      <td>0.000000e+00</td>\n",
              "      <td>5.506472e-06</td>\n",
              "      <td>1.450349e-21</td>\n",
              "      <td>0.209435</td>\n",
              "      <td>3.751739e-23</td>\n",
              "      <td>6.346703e-07</td>\n",
              "      <td>2.854869e-16</td>\n",
              "      <td>8.519949e-19</td>\n",
              "      <td>2.693844e-56</td>\n",
              "      <td>2.357127e-47</td>\n",
              "      <td>2.942922e-11</td>\n",
              "      <td>2.487274e-19</td>\n",
              "      <td>2.654277e-27</td>\n",
              "      <td>1.173987e-19</td>\n",
              "    </tr>\n",
              "    <tr>\n",
              "      <th>ZN</th>\n",
              "      <td>5.506472e-06</td>\n",
              "      <td>0.000000e+00</td>\n",
              "      <td>1.289161e-38</td>\n",
              "      <td>0.337810</td>\n",
              "      <td>7.231578e-36</td>\n",
              "      <td>6.935337e-13</td>\n",
              "      <td>7.575575e-45</td>\n",
              "      <td>9.748287e-66</td>\n",
              "      <td>6.988109e-13</td>\n",
              "      <td>4.385492e-13</td>\n",
              "      <td>5.325074e-20</td>\n",
              "      <td>7.207719e-05</td>\n",
              "      <td>2.908736e-22</td>\n",
              "      <td>5.713584e-17</td>\n",
              "    </tr>\n",
              "    <tr>\n",
              "      <th>INDUS</th>\n",
              "      <td>1.450349e-21</td>\n",
              "      <td>1.289161e-38</td>\n",
              "      <td>0.000000e+00</td>\n",
              "      <td>0.157463</td>\n",
              "      <td>7.913361e-98</td>\n",
              "      <td>5.328458e-20</td>\n",
              "      <td>8.409642e-61</td>\n",
              "      <td>3.586280e-78</td>\n",
              "      <td>8.368289e-50</td>\n",
              "      <td>3.018199e-82</td>\n",
              "      <td>3.774843e-19</td>\n",
              "      <td>1.184586e-16</td>\n",
              "      <td>1.381948e-51</td>\n",
              "      <td>4.900260e-31</td>\n",
              "    </tr>\n",
              "    <tr>\n",
              "      <th>CHAS</th>\n",
              "      <td>2.094345e-01</td>\n",
              "      <td>3.378103e-01</td>\n",
              "      <td>1.574628e-01</td>\n",
              "      <td>0.000000</td>\n",
              "      <td>4.029050e-02</td>\n",
              "      <td>4.018410e-02</td>\n",
              "      <td>5.177446e-02</td>\n",
              "      <td>2.568848e-02</td>\n",
              "      <td>8.686789e-01</td>\n",
              "      <td>4.244225e-01</td>\n",
              "      <td>6.203916e-03</td>\n",
              "      <td>2.733379e-01</td>\n",
              "      <td>2.258990e-01</td>\n",
              "      <td>7.390623e-05</td>\n",
              "    </tr>\n",
              "    <tr>\n",
              "      <th>NOX</th>\n",
              "      <td>3.751739e-23</td>\n",
              "      <td>7.231578e-36</td>\n",
              "      <td>7.913361e-98</td>\n",
              "      <td>0.040291</td>\n",
              "      <td>0.000000e+00</td>\n",
              "      <td>3.818694e-12</td>\n",
              "      <td>7.452392e-86</td>\n",
              "      <td>4.233063e-100</td>\n",
              "      <td>3.342034e-53</td>\n",
              "      <td>1.093287e-66</td>\n",
              "      <td>1.885692e-05</td>\n",
              "      <td>7.816936e-19</td>\n",
              "      <td>5.979284e-49</td>\n",
              "      <td>7.065042e-24</td>\n",
              "    </tr>\n",
              "    <tr>\n",
              "      <th>RM</th>\n",
              "      <td>6.346703e-07</td>\n",
              "      <td>6.935337e-13</td>\n",
              "      <td>5.328458e-20</td>\n",
              "      <td>0.040184</td>\n",
              "      <td>3.818694e-12</td>\n",
              "      <td>0.000000e+00</td>\n",
              "      <td>4.459649e-08</td>\n",
              "      <td>3.237746e-06</td>\n",
              "      <td>1.918446e-06</td>\n",
              "      <td>2.086816e-11</td>\n",
              "      <td>1.610820e-16</td>\n",
              "      <td>3.906695e-03</td>\n",
              "      <td>1.033009e-53</td>\n",
              "      <td>2.487229e-74</td>\n",
              "    </tr>\n",
              "    <tr>\n",
              "      <th>AGE</th>\n",
              "      <td>2.854869e-16</td>\n",
              "      <td>7.575575e-45</td>\n",
              "      <td>8.409642e-61</td>\n",
              "      <td>0.051774</td>\n",
              "      <td>7.452392e-86</td>\n",
              "      <td>4.459649e-08</td>\n",
              "      <td>0.000000e+00</td>\n",
              "      <td>9.857534e-92</td>\n",
              "      <td>2.360876e-27</td>\n",
              "      <td>2.551067e-34</td>\n",
              "      <td>2.338885e-09</td>\n",
              "      <td>3.911801e-10</td>\n",
              "      <td>2.783924e-51</td>\n",
              "      <td>1.569982e-18</td>\n",
              "    </tr>\n",
              "    <tr>\n",
              "      <th>DIS</th>\n",
              "      <td>8.519949e-19</td>\n",
              "      <td>9.748287e-66</td>\n",
              "      <td>3.586280e-78</td>\n",
              "      <td>0.025688</td>\n",
              "      <td>4.233063e-100</td>\n",
              "      <td>3.237746e-06</td>\n",
              "      <td>9.857534e-92</td>\n",
              "      <td>0.000000e+00</td>\n",
              "      <td>1.418269e-32</td>\n",
              "      <td>1.025931e-38</td>\n",
              "      <td>1.229920e-07</td>\n",
              "      <td>2.278649e-11</td>\n",
              "      <td>6.356331e-33</td>\n",
              "      <td>1.206612e-08</td>\n",
              "    </tr>\n",
              "    <tr>\n",
              "      <th>RAD</th>\n",
              "      <td>2.693844e-56</td>\n",
              "      <td>6.988109e-13</td>\n",
              "      <td>8.368289e-50</td>\n",
              "      <td>0.868679</td>\n",
              "      <td>3.342034e-53</td>\n",
              "      <td>1.918446e-06</td>\n",
              "      <td>2.360876e-27</td>\n",
              "      <td>1.418269e-32</td>\n",
              "      <td>0.000000e+00</td>\n",
              "      <td>4.129920e-195</td>\n",
              "      <td>1.778554e-28</td>\n",
              "      <td>6.592918e-26</td>\n",
              "      <td>9.904457e-32</td>\n",
              "      <td>5.465933e-19</td>\n",
              "    </tr>\n",
              "    <tr>\n",
              "      <th>TAX</th>\n",
              "      <td>2.357127e-47</td>\n",
              "      <td>4.385492e-13</td>\n",
              "      <td>3.018199e-82</td>\n",
              "      <td>0.424423</td>\n",
              "      <td>1.093287e-66</td>\n",
              "      <td>2.086816e-11</td>\n",
              "      <td>2.551067e-34</td>\n",
              "      <td>1.025931e-38</td>\n",
              "      <td>4.129920e-195</td>\n",
              "      <td>0.000000e+00</td>\n",
              "      <td>5.686833e-28</td>\n",
              "      <td>1.367562e-25</td>\n",
              "      <td>2.583867e-40</td>\n",
              "      <td>5.637734e-29</td>\n",
              "    </tr>\n",
              "    <tr>\n",
              "      <th>PTRATIO</th>\n",
              "      <td>2.942922e-11</td>\n",
              "      <td>5.325074e-20</td>\n",
              "      <td>3.774843e-19</td>\n",
              "      <td>0.006204</td>\n",
              "      <td>1.885692e-05</td>\n",
              "      <td>1.610820e-16</td>\n",
              "      <td>2.338885e-09</td>\n",
              "      <td>1.229920e-07</td>\n",
              "      <td>1.778554e-28</td>\n",
              "      <td>5.686833e-28</td>\n",
              "      <td>0.000000e+00</td>\n",
              "      <td>6.017320e-05</td>\n",
              "      <td>3.003524e-18</td>\n",
              "      <td>1.609509e-34</td>\n",
              "    </tr>\n",
              "    <tr>\n",
              "      <th>B</th>\n",
              "      <td>2.487274e-19</td>\n",
              "      <td>7.207719e-05</td>\n",
              "      <td>1.184586e-16</td>\n",
              "      <td>0.273338</td>\n",
              "      <td>7.816936e-19</td>\n",
              "      <td>3.906695e-03</td>\n",
              "      <td>3.911801e-10</td>\n",
              "      <td>2.278649e-11</td>\n",
              "      <td>6.592918e-26</td>\n",
              "      <td>1.367562e-25</td>\n",
              "      <td>6.017320e-05</td>\n",
              "      <td>0.000000e+00</td>\n",
              "      <td>1.712280e-17</td>\n",
              "      <td>1.318113e-14</td>\n",
              "    </tr>\n",
              "    <tr>\n",
              "      <th>LSTAT</th>\n",
              "      <td>2.654277e-27</td>\n",
              "      <td>2.908736e-22</td>\n",
              "      <td>1.381948e-51</td>\n",
              "      <td>0.225899</td>\n",
              "      <td>5.979284e-49</td>\n",
              "      <td>1.033009e-53</td>\n",
              "      <td>2.783924e-51</td>\n",
              "      <td>6.356331e-33</td>\n",
              "      <td>9.904457e-32</td>\n",
              "      <td>2.583867e-40</td>\n",
              "      <td>3.003524e-18</td>\n",
              "      <td>1.712280e-17</td>\n",
              "      <td>0.000000e+00</td>\n",
              "      <td>5.081103e-88</td>\n",
              "    </tr>\n",
              "    <tr>\n",
              "      <th>MEDV</th>\n",
              "      <td>1.173987e-19</td>\n",
              "      <td>5.713584e-17</td>\n",
              "      <td>4.900260e-31</td>\n",
              "      <td>0.000074</td>\n",
              "      <td>7.065042e-24</td>\n",
              "      <td>2.487229e-74</td>\n",
              "      <td>1.569982e-18</td>\n",
              "      <td>1.206612e-08</td>\n",
              "      <td>5.465933e-19</td>\n",
              "      <td>5.637734e-29</td>\n",
              "      <td>1.609509e-34</td>\n",
              "      <td>1.318113e-14</td>\n",
              "      <td>5.081103e-88</td>\n",
              "      <td>0.000000e+00</td>\n",
              "    </tr>\n",
              "  </tbody>\n",
              "</table>\n",
              "</div>"
            ],
            "text/plain": [
              "                 CRIM            ZN  ...         LSTAT          MEDV\n",
              "CRIM     0.000000e+00  5.506472e-06  ...  2.654277e-27  1.173987e-19\n",
              "ZN       5.506472e-06  0.000000e+00  ...  2.908736e-22  5.713584e-17\n",
              "INDUS    1.450349e-21  1.289161e-38  ...  1.381948e-51  4.900260e-31\n",
              "CHAS     2.094345e-01  3.378103e-01  ...  2.258990e-01  7.390623e-05\n",
              "NOX      3.751739e-23  7.231578e-36  ...  5.979284e-49  7.065042e-24\n",
              "RM       6.346703e-07  6.935337e-13  ...  1.033009e-53  2.487229e-74\n",
              "AGE      2.854869e-16  7.575575e-45  ...  2.783924e-51  1.569982e-18\n",
              "DIS      8.519949e-19  9.748287e-66  ...  6.356331e-33  1.206612e-08\n",
              "RAD      2.693844e-56  6.988109e-13  ...  9.904457e-32  5.465933e-19\n",
              "TAX      2.357127e-47  4.385492e-13  ...  2.583867e-40  5.637734e-29\n",
              "PTRATIO  2.942922e-11  5.325074e-20  ...  3.003524e-18  1.609509e-34\n",
              "B        2.487274e-19  7.207719e-05  ...  1.712280e-17  1.318113e-14\n",
              "LSTAT    2.654277e-27  2.908736e-22  ...  0.000000e+00  5.081103e-88\n",
              "MEDV     1.173987e-19  5.713584e-17  ...  5.081103e-88  0.000000e+00\n",
              "\n",
              "[14 rows x 14 columns]"
            ]
          },
          "metadata": {
            "tags": []
          },
          "execution_count": 7
        }
      ]
    },
    {
      "cell_type": "code",
      "metadata": {
        "colab": {
          "base_uri": "https://localhost:8080/",
          "height": 827
        },
        "id": "Lcehyi-wiM0Q",
        "outputId": "203db043-dfc7-4726-d2cd-186a209daa75"
      },
      "source": [
        "plt.figure(figsize=(14,14))\n",
        "sns.heatmap(corr_p_values, annot=True, fmt = '.2f', linewidths=.5, cmap='Reds')"
      ],
      "execution_count": null,
      "outputs": [
        {
          "output_type": "execute_result",
          "data": {
            "text/plain": [
              "<matplotlib.axes._subplots.AxesSubplot at 0x7fe6c3e34d50>"
            ]
          },
          "metadata": {
            "tags": []
          },
          "execution_count": 8
        },
        {
          "output_type": "display_data",
          "data": {
            "image/png": "[encoded data removed]",
            "text/plain": [
              "<Figure size 1008x1008 with 2 Axes>"
            ]
          },
          "metadata": {
            "tags": [],
            "needs_background": "light"
          }
        }
      ]
    },
    {
      "cell_type": "code",
      "metadata": {
        "id": "NUMJqiRyiPse"
      },
      "source": [
        "BostonHousing_data_0=pd.DataFrame(BostonHousingData.iloc[:,0:14], columns=flist)\n"
      ],
      "execution_count": null,
      "outputs": []
    },
    {
      "cell_type": "code",
      "metadata": {
        "id": "uiC4vyMJiTna"
      },
      "source": [
        "del BostonHousing_data_0['MEDV']"
      ],
      "execution_count": null,
      "outputs": []
    },
    {
      "cell_type": "code",
      "metadata": {
        "id": "UJ5heb5RiXj9"
      },
      "source": [
        "# 바이어스 추가\n",
        "BostonHousing_data = sm.add_constant(BostonHousing_data_0)"
      ],
      "execution_count": null,
      "outputs": []
    },
    {
      "cell_type": "code",
      "metadata": {
        "colab": {
          "base_uri": "https://localhost:8080/",
          "height": 419
        },
        "id": "WAhqVkbHihBR",
        "outputId": "80db45ee-6b37-4f03-a455-31afbea22766"
      },
      "source": [
        "BostonHousing_data"
      ],
      "execution_count": null,
      "outputs": [
        {
          "output_type": "execute_result",
          "data": {
            "text/html": [
              "<div>\n",
              "<style scoped>\n",
              "    .dataframe tbody tr th:only-of-type {\n",
              "        vertical-align: middle;\n",
              "    }\n",
              "\n",
              "    .dataframe tbody tr th {\n",
              "        vertical-align: top;\n",
              "    }\n",
              "\n",
              "    .dataframe thead th {\n",
              "        text-align: right;\n",
              "    }\n",
              "</style>\n",
              "<table border=\"1\" class=\"dataframe\">\n",
              "  <thead>\n",
              "    <tr style=\"text-align: right;\">\n",
              "      <th></th>\n",
              "      <th>const</th>\n",
              "      <th>CRIM</th>\n",
              "      <th>ZN</th>\n",
              "      <th>INDUS</th>\n",
              "      <th>CHAS</th>\n",
              "      <th>NOX</th>\n",
              "      <th>RM</th>\n",
              "      <th>AGE</th>\n",
              "      <th>DIS</th>\n",
              "      <th>RAD</th>\n",
              "      <th>TAX</th>\n",
              "      <th>PTRATIO</th>\n",
              "      <th>B</th>\n",
              "      <th>LSTAT</th>\n",
              "    </tr>\n",
              "  </thead>\n",
              "  <tbody>\n",
              "    <tr>\n",
              "      <th>0</th>\n",
              "      <td>1.0</td>\n",
              "      <td>0.00632</td>\n",
              "      <td>18.0</td>\n",
              "      <td>2.31</td>\n",
              "      <td>0</td>\n",
              "      <td>0.538</td>\n",
              "      <td>6.575</td>\n",
              "      <td>65.2</td>\n",
              "      <td>4.0900</td>\n",
              "      <td>1</td>\n",
              "      <td>296</td>\n",
              "      <td>15.3</td>\n",
              "      <td>396.90</td>\n",
              "      <td>4.98</td>\n",
              "    </tr>\n",
              "    <tr>\n",
              "      <th>1</th>\n",
              "      <td>1.0</td>\n",
              "      <td>0.02731</td>\n",
              "      <td>0.0</td>\n",
              "      <td>7.07</td>\n",
              "      <td>0</td>\n",
              "      <td>0.469</td>\n",
              "      <td>6.421</td>\n",
              "      <td>78.9</td>\n",
              "      <td>4.9671</td>\n",
              "      <td>2</td>\n",
              "      <td>242</td>\n",
              "      <td>17.8</td>\n",
              "      <td>396.90</td>\n",
              "      <td>9.14</td>\n",
              "    </tr>\n",
              "    <tr>\n",
              "      <th>2</th>\n",
              "      <td>1.0</td>\n",
              "      <td>0.02729</td>\n",
              "      <td>0.0</td>\n",
              "      <td>7.07</td>\n",
              "      <td>0</td>\n",
              "      <td>0.469</td>\n",
              "      <td>7.185</td>\n",
              "      <td>61.1</td>\n",
              "      <td>4.9671</td>\n",
              "      <td>2</td>\n",
              "      <td>242</td>\n",
              "      <td>17.8</td>\n",
              "      <td>392.83</td>\n",
              "      <td>4.03</td>\n",
              "    </tr>\n",
              "    <tr>\n",
              "      <th>3</th>\n",
              "      <td>1.0</td>\n",
              "      <td>0.03237</td>\n",
              "      <td>0.0</td>\n",
              "      <td>2.18</td>\n",
              "      <td>0</td>\n",
              "      <td>0.458</td>\n",
              "      <td>6.998</td>\n",
              "      <td>45.8</td>\n",
              "      <td>6.0622</td>\n",
              "      <td>3</td>\n",
              "      <td>222</td>\n",
              "      <td>18.7</td>\n",
              "      <td>394.63</td>\n",
              "      <td>2.94</td>\n",
              "    </tr>\n",
              "    <tr>\n",
              "      <th>4</th>\n",
              "      <td>1.0</td>\n",
              "      <td>0.06905</td>\n",
              "      <td>0.0</td>\n",
              "      <td>2.18</td>\n",
              "      <td>0</td>\n",
              "      <td>0.458</td>\n",
              "      <td>7.147</td>\n",
              "      <td>54.2</td>\n",
              "      <td>6.0622</td>\n",
              "      <td>3</td>\n",
              "      <td>222</td>\n",
              "      <td>18.7</td>\n",
              "      <td>396.90</td>\n",
              "      <td>5.33</td>\n",
              "    </tr>\n",
              "    <tr>\n",
              "      <th>...</th>\n",
              "      <td>...</td>\n",
              "      <td>...</td>\n",
              "      <td>...</td>\n",
              "      <td>...</td>\n",
              "      <td>...</td>\n",
              "      <td>...</td>\n",
              "      <td>...</td>\n",
              "      <td>...</td>\n",
              "      <td>...</td>\n",
              "      <td>...</td>\n",
              "      <td>...</td>\n",
              "      <td>...</td>\n",
              "      <td>...</td>\n",
              "      <td>...</td>\n",
              "    </tr>\n",
              "    <tr>\n",
              "      <th>501</th>\n",
              "      <td>1.0</td>\n",
              "      <td>0.06263</td>\n",
              "      <td>0.0</td>\n",
              "      <td>11.93</td>\n",
              "      <td>0</td>\n",
              "      <td>0.573</td>\n",
              "      <td>6.593</td>\n",
              "      <td>69.1</td>\n",
              "      <td>2.4786</td>\n",
              "      <td>1</td>\n",
              "      <td>273</td>\n",
              "      <td>21.0</td>\n",
              "      <td>391.99</td>\n",
              "      <td>9.67</td>\n",
              "    </tr>\n",
              "    <tr>\n",
              "      <th>502</th>\n",
              "      <td>1.0</td>\n",
              "      <td>0.04527</td>\n",
              "      <td>0.0</td>\n",
              "      <td>11.93</td>\n",
              "      <td>0</td>\n",
              "      <td>0.573</td>\n",
              "      <td>6.120</td>\n",
              "      <td>76.7</td>\n",
              "      <td>2.2875</td>\n",
              "      <td>1</td>\n",
              "      <td>273</td>\n",
              "      <td>21.0</td>\n",
              "      <td>396.90</td>\n",
              "      <td>9.08</td>\n",
              "    </tr>\n",
              "    <tr>\n",
              "      <th>503</th>\n",
              "      <td>1.0</td>\n",
              "      <td>0.06076</td>\n",
              "      <td>0.0</td>\n",
              "      <td>11.93</td>\n",
              "      <td>0</td>\n",
              "      <td>0.573</td>\n",
              "      <td>6.976</td>\n",
              "      <td>91.0</td>\n",
              "      <td>2.1675</td>\n",
              "      <td>1</td>\n",
              "      <td>273</td>\n",
              "      <td>21.0</td>\n",
              "      <td>396.90</td>\n",
              "      <td>5.64</td>\n",
              "    </tr>\n",
              "    <tr>\n",
              "      <th>504</th>\n",
              "      <td>1.0</td>\n",
              "      <td>0.10959</td>\n",
              "      <td>0.0</td>\n",
              "      <td>11.93</td>\n",
              "      <td>0</td>\n",
              "      <td>0.573</td>\n",
              "      <td>6.794</td>\n",
              "      <td>89.3</td>\n",
              "      <td>2.3889</td>\n",
              "      <td>1</td>\n",
              "      <td>273</td>\n",
              "      <td>21.0</td>\n",
              "      <td>393.45</td>\n",
              "      <td>6.48</td>\n",
              "    </tr>\n",
              "    <tr>\n",
              "      <th>505</th>\n",
              "      <td>1.0</td>\n",
              "      <td>0.04741</td>\n",
              "      <td>0.0</td>\n",
              "      <td>11.93</td>\n",
              "      <td>0</td>\n",
              "      <td>0.573</td>\n",
              "      <td>6.030</td>\n",
              "      <td>80.8</td>\n",
              "      <td>2.5050</td>\n",
              "      <td>1</td>\n",
              "      <td>273</td>\n",
              "      <td>21.0</td>\n",
              "      <td>396.90</td>\n",
              "      <td>7.88</td>\n",
              "    </tr>\n",
              "  </tbody>\n",
              "</table>\n",
              "<p>506 rows × 14 columns</p>\n",
              "</div>"
            ],
            "text/plain": [
              "     const     CRIM    ZN  INDUS  CHAS  ...  RAD  TAX  PTRATIO       B  LSTAT\n",
              "0      1.0  0.00632  18.0   2.31     0  ...    1  296     15.3  396.90   4.98\n",
              "1      1.0  0.02731   0.0   7.07     0  ...    2  242     17.8  396.90   9.14\n",
              "2      1.0  0.02729   0.0   7.07     0  ...    2  242     17.8  392.83   4.03\n",
              "3      1.0  0.03237   0.0   2.18     0  ...    3  222     18.7  394.63   2.94\n",
              "4      1.0  0.06905   0.0   2.18     0  ...    3  222     18.7  396.90   5.33\n",
              "..     ...      ...   ...    ...   ...  ...  ...  ...      ...     ...    ...\n",
              "501    1.0  0.06263   0.0  11.93     0  ...    1  273     21.0  391.99   9.67\n",
              "502    1.0  0.04527   0.0  11.93     0  ...    1  273     21.0  396.90   9.08\n",
              "503    1.0  0.06076   0.0  11.93     0  ...    1  273     21.0  396.90   5.64\n",
              "504    1.0  0.10959   0.0  11.93     0  ...    1  273     21.0  393.45   6.48\n",
              "505    1.0  0.04741   0.0  11.93     0  ...    1  273     21.0  396.90   7.88\n",
              "\n",
              "[506 rows x 14 columns]"
            ]
          },
          "metadata": {
            "tags": []
          },
          "execution_count": 12
        }
      ]
    },
    {
      "cell_type": "code",
      "metadata": {
        "id": "UQQkP0U0iqDb"
      },
      "source": [
        "BostonHousing_target=pd.DataFrame(BostonHousingData['MEDV'], columns=['MEDV'])"
      ],
      "execution_count": null,
      "outputs": []
    },
    {
      "cell_type": "code",
      "metadata": {
        "colab": {
          "base_uri": "https://localhost:8080/",
          "height": 730
        },
        "id": "e0zGho3QiuM9",
        "outputId": "03d5a2a3-62c5-4046-98af-20bcccec966c"
      },
      "source": [
        "model_Boston = sm.OLS(BostonHousing_target, BostonHousing_data)\n",
        "result_Boston = model_Boston.fit()\n",
        "result_Boston.summary()"
      ],
      "execution_count": null,
      "outputs": [
        {
          "output_type": "execute_result",
          "data": {
            "text/html": [
              "<table class=\"simpletable\">\n",
              "<caption>OLS Regression Results</caption>\n",
              "<tr>\n",
              "  <th>Dep. Variable:</th>          <td>MEDV</td>       <th>  R-squared:         </th> <td>   0.741</td> \n",
              "</tr>\n",
              "<tr>\n",
              "  <th>Model:</th>                   <td>OLS</td>       <th>  Adj. R-squared:    </th> <td>   0.734</td> \n",
              "</tr>\n",
              "<tr>\n",
              "  <th>Method:</th>             <td>Least Squares</td>  <th>  F-statistic:       </th> <td>   108.1</td> \n",
              "</tr>\n",
              "<tr>\n",
              "  <th>Date:</th>             <td>Thu, 01 Jul 2021</td> <th>  Prob (F-statistic):</th> <td>6.72e-135</td>\n",
              "</tr>\n",
              "<tr>\n",
              "  <th>Time:</th>                 <td>05:29:27</td>     <th>  Log-Likelihood:    </th> <td> -1498.8</td> \n",
              "</tr>\n",
              "<tr>\n",
              "  <th>No. Observations:</th>      <td>   506</td>      <th>  AIC:               </th> <td>   3026.</td> \n",
              "</tr>\n",
              "<tr>\n",
              "  <th>Df Residuals:</th>          <td>   492</td>      <th>  BIC:               </th> <td>   3085.</td> \n",
              "</tr>\n",
              "<tr>\n",
              "  <th>Df Model:</th>              <td>    13</td>      <th>                     </th>     <td> </td>    \n",
              "</tr>\n",
              "<tr>\n",
              "  <th>Covariance Type:</th>      <td>nonrobust</td>    <th>                     </th>     <td> </td>    \n",
              "</tr>\n",
              "</table>\n",
              "<table class=\"simpletable\">\n",
              "<tr>\n",
              "     <td></td>        <th>coef</th>     <th>std err</th>      <th>t</th>      <th>P>|t|</th>  <th>[0.025</th>    <th>0.975]</th>  \n",
              "</tr>\n",
              "<tr>\n",
              "  <th>const</th>   <td>   36.4595</td> <td>    5.103</td> <td>    7.144</td> <td> 0.000</td> <td>   26.432</td> <td>   46.487</td>\n",
              "</tr>\n",
              "<tr>\n",
              "  <th>CRIM</th>    <td>   -0.1080</td> <td>    0.033</td> <td>   -3.287</td> <td> 0.001</td> <td>   -0.173</td> <td>   -0.043</td>\n",
              "</tr>\n",
              "<tr>\n",
              "  <th>ZN</th>      <td>    0.0464</td> <td>    0.014</td> <td>    3.382</td> <td> 0.001</td> <td>    0.019</td> <td>    0.073</td>\n",
              "</tr>\n",
              "<tr>\n",
              "  <th>INDUS</th>   <td>    0.0206</td> <td>    0.061</td> <td>    0.334</td> <td> 0.738</td> <td>   -0.100</td> <td>    0.141</td>\n",
              "</tr>\n",
              "<tr>\n",
              "  <th>CHAS</th>    <td>    2.6867</td> <td>    0.862</td> <td>    3.118</td> <td> 0.002</td> <td>    0.994</td> <td>    4.380</td>\n",
              "</tr>\n",
              "<tr>\n",
              "  <th>NOX</th>     <td>  -17.7666</td> <td>    3.820</td> <td>   -4.651</td> <td> 0.000</td> <td>  -25.272</td> <td>  -10.262</td>\n",
              "</tr>\n",
              "<tr>\n",
              "  <th>RM</th>      <td>    3.8099</td> <td>    0.418</td> <td>    9.116</td> <td> 0.000</td> <td>    2.989</td> <td>    4.631</td>\n",
              "</tr>\n",
              "<tr>\n",
              "  <th>AGE</th>     <td>    0.0007</td> <td>    0.013</td> <td>    0.052</td> <td> 0.958</td> <td>   -0.025</td> <td>    0.027</td>\n",
              "</tr>\n",
              "<tr>\n",
              "  <th>DIS</th>     <td>   -1.4756</td> <td>    0.199</td> <td>   -7.398</td> <td> 0.000</td> <td>   -1.867</td> <td>   -1.084</td>\n",
              "</tr>\n",
              "<tr>\n",
              "  <th>RAD</th>     <td>    0.3060</td> <td>    0.066</td> <td>    4.613</td> <td> 0.000</td> <td>    0.176</td> <td>    0.436</td>\n",
              "</tr>\n",
              "<tr>\n",
              "  <th>TAX</th>     <td>   -0.0123</td> <td>    0.004</td> <td>   -3.280</td> <td> 0.001</td> <td>   -0.020</td> <td>   -0.005</td>\n",
              "</tr>\n",
              "<tr>\n",
              "  <th>PTRATIO</th> <td>   -0.9527</td> <td>    0.131</td> <td>   -7.283</td> <td> 0.000</td> <td>   -1.210</td> <td>   -0.696</td>\n",
              "</tr>\n",
              "<tr>\n",
              "  <th>B</th>       <td>    0.0093</td> <td>    0.003</td> <td>    3.467</td> <td> 0.001</td> <td>    0.004</td> <td>    0.015</td>\n",
              "</tr>\n",
              "<tr>\n",
              "  <th>LSTAT</th>   <td>   -0.5248</td> <td>    0.051</td> <td>  -10.347</td> <td> 0.000</td> <td>   -0.624</td> <td>   -0.425</td>\n",
              "</tr>\n",
              "</table>\n",
              "<table class=\"simpletable\">\n",
              "<tr>\n",
              "  <th>Omnibus:</th>       <td>178.041</td> <th>  Durbin-Watson:     </th> <td>   1.078</td> \n",
              "</tr>\n",
              "<tr>\n",
              "  <th>Prob(Omnibus):</th> <td> 0.000</td>  <th>  Jarque-Bera (JB):  </th> <td> 783.126</td> \n",
              "</tr>\n",
              "<tr>\n",
              "  <th>Skew:</th>          <td> 1.521</td>  <th>  Prob(JB):          </th> <td>8.84e-171</td>\n",
              "</tr>\n",
              "<tr>\n",
              "  <th>Kurtosis:</th>      <td> 8.281</td>  <th>  Cond. No.          </th> <td>1.51e+04</td> \n",
              "</tr>\n",
              "</table><br/><br/>Warnings:<br/>[1] Standard Errors assume that the covariance matrix of the errors is correctly specified.<br/>[2] The condition number is large, 1.51e+04. This might indicate that there are<br/>strong multicollinearity or other numerical problems."
            ],
            "text/plain": [
              "<class 'statsmodels.iolib.summary.Summary'>\n",
              "\"\"\"\n",
              "                            OLS Regression Results                            \n",
              "==============================================================================\n",
              "Dep. Variable:                   MEDV   R-squared:                       0.741\n",
              "Model:                            OLS   Adj. R-squared:                  0.734\n",
              "Method:                 Least Squares   F-statistic:                     108.1\n",
              "Date:                Thu, 01 Jul 2021   Prob (F-statistic):          6.72e-135\n",
              "Time:                        05:29:27   Log-Likelihood:                -1498.8\n",
              "No. Observations:                 506   AIC:                             3026.\n",
              "Df Residuals:                     492   BIC:                             3085.\n",
              "Df Model:                          13                                         \n",
              "Covariance Type:            nonrobust                                         \n",
              "==============================================================================\n",
              "                 coef    std err          t      P>|t|      [0.025      0.975]\n",
              "------------------------------------------------------------------------------\n",
              "const         36.4595      5.103      7.144      0.000      26.432      46.487\n",
              "CRIM          -0.1080      0.033     -3.287      0.001      -0.173      -0.043\n",
              "ZN             0.0464      0.014      3.382      0.001       0.019       0.073\n",
              "INDUS          0.0206      0.061      0.334      0.738      -0.100       0.141\n",
              "CHAS           2.6867      0.862      3.118      0.002       0.994       4.380\n",
              "NOX          -17.7666      3.820     -4.651      0.000     -25.272     -10.262\n",
              "RM             3.8099      0.418      9.116      0.000       2.989       4.631\n",
              "AGE            0.0007      0.013      0.052      0.958      -0.025       0.027\n",
              "DIS           -1.4756      0.199     -7.398      0.000      -1.867      -1.084\n",
              "RAD            0.3060      0.066      4.613      0.000       0.176       0.436\n",
              "TAX           -0.0123      0.004     -3.280      0.001      -0.020      -0.005\n",
              "PTRATIO       -0.9527      0.131     -7.283      0.000      -1.210      -0.696\n",
              "B              0.0093      0.003      3.467      0.001       0.004       0.015\n",
              "LSTAT         -0.5248      0.051    -10.347      0.000      -0.624      -0.425\n",
              "==============================================================================\n",
              "Omnibus:                      178.041   Durbin-Watson:                   1.078\n",
              "Prob(Omnibus):                  0.000   Jarque-Bera (JB):              783.126\n",
              "Skew:                           1.521   Prob(JB):                    8.84e-171\n",
              "Kurtosis:                       8.281   Cond. No.                     1.51e+04\n",
              "==============================================================================\n",
              "\n",
              "Warnings:\n",
              "[1] Standard Errors assume that the covariance matrix of the errors is correctly specified.\n",
              "[2] The condition number is large, 1.51e+04. This might indicate that there are\n",
              "strong multicollinearity or other numerical problems.\n",
              "\"\"\""
            ]
          },
          "metadata": {
            "tags": []
          },
          "execution_count": 14
        }
      ]
    },
    {
      "cell_type": "code",
      "metadata": {
        "colab": {
          "base_uri": "https://localhost:8080/",
          "height": 283
        },
        "id": "SU0g1Ohmix0K",
        "outputId": "545a3d70-1d86-4ea4-ac5d-9b0a0fb79b74"
      },
      "source": [
        "pred = result_Boston.predict(BostonHousing_data)\n",
        "resid = result_Boston.resid\n",
        "plt.scatter(pred, resid)\n",
        "plt.axhline(y=0, color='b', linewidth=0.8, linestyle='--')"
      ],
      "execution_count": null,
      "outputs": [
        {
          "output_type": "execute_result",
          "data": {
            "text/plain": [
              "<matplotlib.lines.Line2D at 0x7fe6bacee710>"
            ]
          },
          "metadata": {
            "tags": []
          },
          "execution_count": 15
        },
        {
          "output_type": "display_data",
          "data": {
            "image/png": "[encoded data removed]",
            "text/plain": [
              "<Figure size 432x288 with 1 Axes>"
            ]
          },
          "metadata": {
            "tags": [],
            "needs_background": "light"
          }
        }
      ]
    },
    {
      "cell_type": "code",
      "metadata": {
        "colab": {
          "base_uri": "https://localhost:8080/",
          "height": 335
        },
        "id": "-Wfuqvxui7Ry",
        "outputId": "6da36178-9e53-4b8a-ca74-0ceefebe568d"
      },
      "source": [
        "sns.distplot(BostonHousingData['MEDV'], fit=stats.norm)\n",
        "plt.show()"
      ],
      "execution_count": null,
      "outputs": [
        {
          "output_type": "stream",
          "text": [
            "/usr/local/lib/python3.7/dist-packages/seaborn/distributions.py:2557: FutureWarning: `distplot` is a deprecated function and will be removed in a future version. Please adapt your code to use either `displot` (a figure-level function with similar flexibility) or `histplot` (an axes-level function for histograms).\n",
            "  warnings.warn(msg, FutureWarning)\n"
          ],
          "name": "stderr"
        },
        {
          "output_type": "display_data",
          "data": {
            "image/png": "[encoded data removed]",
            "text/plain": [
              "<Figure size 432x288 with 1 Axes>"
            ]
          },
          "metadata": {
            "tags": [],
            "needs_background": "light"
          }
        }
      ]
    },
    {
      "cell_type": "code",
      "metadata": {
        "id": "_X5G219yi_gf",
        "colab": {
          "base_uri": "https://localhost:8080/",
          "height": 295
        },
        "outputId": "850a1d6c-4ba6-461f-bcb5-bffd3193de0d"
      },
      "source": [
        "stats.probplot(resid, plot=plt)\n",
        "plt.show()"
      ],
      "execution_count": null,
      "outputs": [
        {
          "output_type": "display_data",
          "data": {
            "image/png": "[encoded data removed]",
            "text/plain": [
              "<Figure size 432x288 with 1 Axes>"
            ]
          },
          "metadata": {
            "tags": [],
            "needs_background": "light"
          }
        }
      ]
    },
    {
      "cell_type": "code",
      "metadata": {
        "id": "byakkHhgjCXY"
      },
      "source": [
        ""
      ],
      "execution_count": null,
      "outputs": []
    }
  ]
}